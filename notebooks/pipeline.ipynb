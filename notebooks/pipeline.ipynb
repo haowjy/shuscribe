{
 "cells": [
  {
   "cell_type": "markdown",
   "metadata": {},
   "source": [
    "# Setup"
   ]
  },
  {
   "cell_type": "code",
   "execution_count": 1,
   "metadata": {},
   "outputs": [],
   "source": [
    "%load_ext autoreload\n",
    "%autoreload 2\n",
    "\n",
    "import sys\n",
    "from pathlib import Path\n",
    "\n",
    "# Path('../backend/shuscribe').resolve()\n",
    "sys.path.insert(0, str(Path('../backend').resolve()))"
   ]
  },
  {
   "cell_type": "code",
   "execution_count": 2,
   "metadata": {},
   "outputs": [],
   "source": [
    "# Import necessary modules\n",
    "import asyncio\n",
    "from dotenv import load_dotenv\n",
    "import os\n",
    "from shuscribe.services.llm.session import LLMSession\n",
    "from shuscribe.services.llm.providers.provider import (\n",
    "    Message, GenerationConfig\n",
    ")\n",
    "from shuscribe.schemas.llm import MessageRole\n",
    "\n",
    "load_dotenv()\n",
    "OPENAI_API_KEY = os.environ[\"OPENAI_API_KEY\"]\n",
    "ANTHROPIC_API_KEY = os.environ[\"ANTHROPIC_API_KEY\"]\n",
    "GEMINI_API_KEY = os.environ[\"GEMINI_API_KEY\"]\n",
    "\n",
    "TEST_MODELS ={\n",
    "    \"openai\": \"gpt-4o-mini\",\n",
    "    \"anthropic\": \"claude-3-5-haiku-20241022\",\n",
    "    \"gemini\": \"gemini-2.0-flash-001\"\n",
    "}\n",
    "\n",
    "TEST_THINKING_MODELS = {\n",
    "    \"openai\": \"o3-mini-2025-01-31\",\n",
    "    \"anthropic\": \"claude-3-7-sonnet-20250219\",\n",
    "    \"gemini\": \"gemini-2.0-flash-thinking-exp\"\n",
    "}\n",
    "\n",
    "# Helper function to run async code in notebook\n",
    "async def run_async(coro):\n",
    "    return await coro"
   ]
  },
  {
   "cell_type": "code",
   "execution_count": 8,
   "metadata": {},
   "outputs": [],
   "source": [
    "# Streaming response\n",
    "from typing import Optional\n",
    "from shuscribe.services.llm.streaming import StreamChunk, StreamStatus\n",
    "\n",
    "\n",
    "async def stream(provider_name: str, messages: list[Message]):\n",
    "    async with LLMSession.session_scope() as session:\n",
    "        # Create a streaming config\n",
    "        config = GenerationConfig(temperature=0.7)\n",
    "        \n",
    "        print(f\"{TEST_MODELS[provider_name]}:\")\n",
    "        \n",
    "        # last_chunk: Optional[StreamChunk] = None\n",
    "\n",
    "        async for chunk in session.generate_stream(\n",
    "            messages=messages,\n",
    "            provider_name=provider_name,\n",
    "            model=TEST_MODELS[provider_name],\n",
    "            config=config\n",
    "        ):\n",
    "            print(chunk.text, end=\"\", flush=True)\n",
    "\n",
    "    if chunk:\n",
    "        if chunk.status == StreamStatus.COMPLETE:\n",
    "            return chunk.accumulated_text\n"
   ]
  },
  {
   "cell_type": "code",
   "execution_count": 9,
   "metadata": {},
   "outputs": [],
   "source": [
    "import yaml\n",
    "\n",
    "from shuscribe.schemas.pipeline import Chapter, StoryMetadata\n",
    "\n",
    "with open(\"../backend/tests/resources/pokemon_amber/_meta.yaml\", \"r\") as f:\n",
    "    meta = yaml.safe_load(f)\n",
    "    STORY_METADATA = StoryMetadata(\n",
    "        title=meta.get('story_title'),\n",
    "        description=meta.get('story_description'),\n",
    "        genres=meta.get('genres'),\n",
    "        additional_tags=meta.get('additional_tags')\n",
    "    )\n",
    "\n",
    "CHAPTERS = []\n",
    "for chapter in meta.get('chapters'):\n",
    "    with open(f\"../backend/tests/resources/pokemon_amber/{chapter}\", \"r\") as f:\n",
    "        chapter_id = chapter.split('.')[0]\n",
    "        try:\n",
    "            chapter_content = yaml.safe_load(f)\n",
    "            CHAPTERS.append(Chapter(id=chapter_id, title=chapter_content.get('title'), content=chapter_content.get('content')))\n",
    "        except Exception:\n",
    "            continue\n"
   ]
  },
  {
   "cell_type": "markdown",
   "metadata": {},
   "source": [
    "# Chapter Summary"
   ]
  },
  {
   "cell_type": "code",
   "execution_count": 10,
   "metadata": {},
   "outputs": [],
   "source": [
    "# Set Provider Name\n",
    "PROVIDER_NAME = \"gemini\"\n",
    "CHAPTER_INDEX = 0"
   ]
  },
  {
   "cell_type": "code",
   "execution_count": null,
   "metadata": {},
   "outputs": [
    {
     "name": "stdout",
     "output_type": "stream",
     "text": [
      "gemini-2.0-flash-001:\n",
      "<|STARTOFSUMMARY|>\n",
      "# Chapter Summary\n",
      "\n",
      "*   The chapter is a test chapter.\n"
     ]
    },
    {
     "name": "stderr",
     "output_type": "stream",
     "text": [
      "Database module not implemented. Skipping save.\n"
     ]
    }
   ],
   "source": [
    "from shuscribe.services.llm.prompts.manager import PromptManager\n",
    "\n",
    "prompt_manager = PromptManager()\n",
    "\n",
    "messages: list[Message] = prompt_manager.chapter.summary( \n",
    "    current_chapter=CHAPTERS[CHAPTER_INDEX],\n",
    "    story_metadata=STORY_METADATA,\n",
    "    # current_chapter=Chapter(id=1, title=\"Chapter 1\", content=\"This is a test chapter.\")\n",
    ")\n",
    "\n",
    "# print(messages[-1].content)\n",
    "\n",
    "streaming_response = await run_async(stream(PROVIDER_NAME, messages))"
   ]
  }
 ],
 "metadata": {
  "kernelspec": {
   "display_name": ".venv",
   "language": "python",
   "name": "python3"
  },
  "language_info": {
   "codemirror_mode": {
    "name": "ipython",
    "version": 3
   },
   "file_extension": ".py",
   "mimetype": "text/x-python",
   "name": "python",
   "nbconvert_exporter": "python",
   "pygments_lexer": "ipython3",
   "version": "3.12.9"
  }
 },
 "nbformat": 4,
 "nbformat_minor": 2
}
