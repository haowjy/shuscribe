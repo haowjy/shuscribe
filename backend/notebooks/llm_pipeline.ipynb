{
 "cells": [
  {
   "cell_type": "code",
   "execution_count": null,
   "metadata": {},
   "outputs": [],
   "source": []
  },
  {
   "cell_type": "code",
   "execution_count": null,
   "metadata": {},
   "outputs": [],
   "source": [
    "# New Cell or modified existing cell for testing StoryLoader\n",
    "from pathlib import Path\n",
    "import json\n",
    "\n",
    "from src.utils.story_loader import StoryLoader # For pretty printing dictionaries\n",
    "\n",
    "try:\n",
    "    # Ensure this path is correct relative to your notebook's CWD\n",
    "    # The notebook's CWD is backend/notebooks, so ../ goes up to backend/\n",
    "    story_directory_path = Path(\"../tests/resources/pokemon_amber/story\")\n",
    "    story_loader = StoryLoader(story_directory_path)\n",
    "\n",
    "    print(\"--- Story Metadata ---\")\n",
    "    metadata = story_loader.get_metadata()\n",
    "    if metadata:\n",
    "        print(json.dumps(metadata, indent=2))\n",
    "    else:\n",
    "        print(\"Metadata not loaded.\")\n",
    "\n",
    "    print(\"\\n--- Chapters List ---\")\n",
    "    chapters_list = story_loader.get_chapters_list()\n",
    "    for chapter in chapters_list:\n",
    "        print(f\"  - Ref: {chapter['ref']}, Title: {chapter['title']}\")\n",
    "\n",
    "    # Example: Load a specific chapter\n",
    "    if chapters_list:\n",
    "        first_chapter_ref = chapters_list[0][\"ref\"]\n",
    "        print(f\"\\n--- Loading First Chapter ({first_chapter_ref}) ---\")\n",
    "        first_chapter_content = story_loader.load_chapter(first_chapter_ref, True)\n",
    "        # Print only the first 500 characters to avoid overwhelming output\n",
    "        print(f\"Chapter content (snippet):\\n{first_chapter_content[:500]}...\")\n",
    "    else:\n",
    "        print(\"\\nNo chapters found to load.\")\n",
    "\n",
    "except FileNotFoundError as e:\n",
    "    print(f\"Error: {e}\")\n",
    "except ValueError as e:\n",
    "    print(f\"Error: {e}\")\n",
    "except RuntimeError as e:\n",
    "    print(f\"Error: {e}\")\n"
   ]
  }
 ],
 "metadata": {
  "kernelspec": {
   "display_name": ".venv",
   "language": "python",
   "name": "python3"
  },
  "language_info": {
   "name": "python",
   "version": "3.12.11"
  }
 },
 "nbformat": 4,
 "nbformat_minor": 2
}
