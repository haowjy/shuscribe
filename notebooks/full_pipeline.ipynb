{
 "cells": [
  {
   "cell_type": "code",
   "execution_count": 1,
   "metadata": {},
   "outputs": [],
   "source": [
    "%load_ext autoreload\n",
    "%autoreload 2\n",
    "\n",
    "import sys\n",
    "from pathlib import Path\n",
    "\n",
    "# Path('../backend/shuscribe').resolve()\n",
    "sys.path.insert(0, str(Path('../backend').resolve()))"
   ]
  },
  {
   "cell_type": "code",
   "execution_count": 2,
   "metadata": {},
   "outputs": [],
   "source": [
    "import logging\n",
    "from shuscribe.core.config import setup_logger\n",
    "\n",
    "logger = setup_logger(__name__, level=logging.INFO, format='%(levelname)s - %(message)s')"
   ]
  },
  {
   "cell_type": "code",
   "execution_count": 3,
   "metadata": {},
   "outputs": [],
   "source": [
    "# CONSTANTS\n",
    "\n",
    "FIRST_CHAPTER_INDEX = 0"
   ]
  },
  {
   "cell_type": "code",
   "execution_count": 4,
   "metadata": {},
   "outputs": [],
   "source": [
    "# Import necessary modules\n",
    "from dotenv import load_dotenv\n",
    "\n",
    "load_dotenv()\n",
    "\n",
    "STORIES_DIR = Path(\"../backend/tests/resources\")\n",
    "STORY_NAME = \"pokemon_amber\"\n",
    "\n",
    "# Helper function to run async code in notebook\n",
    "async def run_async(coro):\n",
    "    return await coro\n"
   ]
  },
  {
   "cell_type": "code",
   "execution_count": 5,
   "metadata": {},
   "outputs": [],
   "source": [
    "# Pipeline\n",
    "\n",
    "from shuscribe.schemas.pipeline import WikiGenPipelineConfig\n",
    "from shuscribe.schemas.streaming import StreamChunk\n",
    "from shuscribe.services.llm.session import LLMSession\n",
    "from shuscribe.services.llm.streaming import StreamStatus\n",
    "\n",
    "\n",
    "async def run_pipeline(\n",
    "    pipeline_config: WikiGenPipelineConfig,\n",
    "    ) -> StreamChunk | None:\n",
    "    async with LLMSession.session_scope() as session:\n",
    "        \n",
    "        prev_step = None\n",
    "        async for chunk in session.run_pipeline_stream(\n",
    "            pipeline_config=pipeline_config,\n",
    "        ):\n",
    "            if chunk.step != prev_step:\n",
    "                prev_step = chunk.step\n",
    "                print(f\"\\n--------------------\\n{chunk.step.id}\")\n",
    "                print(chunk.progress)\n",
    "                print(\"--------------------\\n\")\n",
    "            # print(chunk.text, end=\"\", flush=True)\n",
    "\n",
    "    if chunk:\n",
    "        if chunk.status in (StreamStatus.COMPLETE, StreamStatus.ERROR):\n",
    "            return chunk\n",
    "    else:\n",
    "        return None\n"
   ]
  },
  {
   "cell_type": "code",
   "execution_count": null,
   "metadata": {},
   "outputs": [
    {
     "name": "stderr",
     "output_type": "stream",
     "text": [
      "!!!!!!!!!!!!megablocks not available, using torch.matmul instead\n",
      "<All keys matched successfully>\n"
     ]
    },
    {
     "name": "stdout",
     "output_type": "stream",
     "text": [
      "\n",
      "--------------------\n",
      "INITIALIZE\n",
      "{'current': 0, 'total': 15}\n",
      "--------------------\n",
      "\n",
      "\n",
      "--------------------\n",
      "LOAD_CHAPTER\n",
      "{'current': 0, 'total': 15}\n",
      "--------------------\n",
      "\n",
      "\n",
      "--------------------\n",
      "GENERATE_SUMMARY\n",
      "{'current': 0, 'total': 15}\n",
      "--------------------\n",
      "\n"
     ]
    },
    {
     "name": "stderr",
     "output_type": "stream",
     "text": [
      "Database module not implemented. Skipping save.\n"
     ]
    },
    {
     "name": "stdout",
     "output_type": "stream",
     "text": [
      "\n",
      "--------------------\n",
      "EXTRACT_ENTITIES\n",
      "{'current': 0, 'total': 15}\n",
      "--------------------\n",
      "\n"
     ]
    },
    {
     "name": "stderr",
     "output_type": "stream",
     "text": [
      "Database module not implemented. Skipping save.\n"
     ]
    },
    {
     "name": "stdout",
     "output_type": "stream",
     "text": [
      "\n",
      "--------------------\n",
      "UPSERT_ENTITIES\n",
      "{'current': 0, 'total': 15}\n",
      "--------------------\n",
      "\n"
     ]
    },
    {
     "name": "stderr",
     "output_type": "stream",
     "text": [
      "Database module not implemented. Skipping save.\n",
      "Database module not implemented. Skipping save.\n",
      "Database module not implemented. Skipping save.\n"
     ]
    },
    {
     "name": "stdout",
     "output_type": "stream",
     "text": [
      "\n",
      "--------------------\n",
      "GENERATE_WIKI\n",
      "{'current': 0, 'total': 15}\n",
      "--------------------\n",
      "\n"
     ]
    },
    {
     "name": "stderr",
     "output_type": "stream",
     "text": [
      "Database module not implemented. Skipping save.\n"
     ]
    },
    {
     "name": "stdout",
     "output_type": "stream",
     "text": [
      "\n",
      "--------------------\n",
      "SAVE_RESULTS\n",
      "{'current': 0, 'total': 15}\n",
      "--------------------\n",
      "\n",
      "\n",
      "--------------------\n",
      "LOAD_CHAPTER\n",
      "{'current': 1, 'total': 15}\n",
      "--------------------\n",
      "\n",
      "\n",
      "--------------------\n",
      "GENERATE_SUMMARY\n",
      "{'current': 1, 'total': 15}\n",
      "--------------------\n",
      "\n"
     ]
    },
    {
     "name": "stderr",
     "output_type": "stream",
     "text": [
      "Database module not implemented. Skipping save.\n"
     ]
    },
    {
     "name": "stdout",
     "output_type": "stream",
     "text": [
      "\n",
      "--------------------\n",
      "EXTRACT_ENTITIES\n",
      "{'current': 1, 'total': 15}\n",
      "--------------------\n",
      "\n"
     ]
    },
    {
     "name": "stderr",
     "output_type": "stream",
     "text": [
      "Database module not implemented. Skipping save.\n"
     ]
    },
    {
     "name": "stdout",
     "output_type": "stream",
     "text": [
      "\n",
      "--------------------\n",
      "UPSERT_ENTITIES\n",
      "{'current': 1, 'total': 15}\n",
      "--------------------\n",
      "\n"
     ]
    },
    {
     "name": "stderr",
     "output_type": "stream",
     "text": [
      "Database module not implemented. Skipping save.\n",
      "Database module not implemented. Skipping save.\n"
     ]
    },
    {
     "name": "stdout",
     "output_type": "stream",
     "text": [
      "\n",
      "--------------------\n",
      "GENERATE_WIKI\n",
      "{'current': 1, 'total': 15}\n",
      "--------------------\n",
      "\n"
     ]
    },
    {
     "name": "stderr",
     "output_type": "stream",
     "text": [
      "Database module not implemented. Skipping save.\n"
     ]
    },
    {
     "name": "stdout",
     "output_type": "stream",
     "text": [
      "\n",
      "--------------------\n",
      "SAVE_RESULTS\n",
      "{'current': 1, 'total': 15}\n",
      "--------------------\n",
      "\n",
      "\n",
      "--------------------\n",
      "LOAD_CHAPTER\n",
      "{'current': 2, 'total': 15}\n",
      "--------------------\n",
      "\n",
      "\n",
      "--------------------\n",
      "GENERATE_SUMMARY\n",
      "{'current': 2, 'total': 15}\n",
      "--------------------\n",
      "\n"
     ]
    },
    {
     "name": "stderr",
     "output_type": "stream",
     "text": [
      "Database module not implemented. Skipping save.\n"
     ]
    },
    {
     "name": "stdout",
     "output_type": "stream",
     "text": [
      "\n",
      "--------------------\n",
      "EXTRACT_ENTITIES\n",
      "{'current': 2, 'total': 15}\n",
      "--------------------\n",
      "\n"
     ]
    }
   ],
   "source": [
    "pipeline_config = WikiGenPipelineConfig(\n",
    "    story_dir=STORIES_DIR,\n",
    "    story_name=STORY_NAME,\n",
    "    start_chapter_idx=FIRST_CHAPTER_INDEX,\n",
    "    end_chapter_idx=None,\n",
    ")\n",
    "\n",
    "last_chunk = await run_async(run_pipeline(pipeline_config))"
   ]
  },
  {
   "cell_type": "code",
   "execution_count": null,
   "metadata": {},
   "outputs": [],
   "source": []
  }
 ],
 "metadata": {
  "kernelspec": {
   "display_name": ".venv",
   "language": "python",
   "name": "python3"
  },
  "language_info": {
   "codemirror_mode": {
    "name": "ipython",
    "version": 3
   },
   "file_extension": ".py",
   "mimetype": "text/x-python",
   "name": "python",
   "nbconvert_exporter": "python",
   "pygments_lexer": "ipython3",
   "version": "3.12.9"
  }
 },
 "nbformat": 4,
 "nbformat_minor": 2
}
