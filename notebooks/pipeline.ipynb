{
 "cells": [
  {
   "cell_type": "markdown",
   "metadata": {},
   "source": [
    "# Setup"
   ]
  },
  {
   "cell_type": "code",
   "execution_count": 41,
   "metadata": {},
   "outputs": [
    {
     "name": "stdout",
     "output_type": "stream",
     "text": [
      "The autoreload extension is already loaded. To reload it, use:\n",
      "  %reload_ext autoreload\n"
     ]
    }
   ],
   "source": [
    "%load_ext autoreload\n",
    "%autoreload 2\n",
    "\n",
    "import sys\n",
    "from pathlib import Path\n",
    "\n",
    "# Path('../backend/shuscribe').resolve()\n",
    "sys.path.insert(0, str(Path('../backend').resolve()))"
   ]
  },
  {
   "cell_type": "code",
   "execution_count": 42,
   "metadata": {},
   "outputs": [],
   "source": [
    "# Import necessary modules\n",
    "import asyncio\n",
    "from dotenv import load_dotenv\n",
    "import os\n",
    "from shuscribe.services.llm.session import LLMSession\n",
    "from shuscribe.services.llm.providers.provider import (\n",
    "    Message, GenerationConfig\n",
    ")\n",
    "from shuscribe.schemas.llm import MessageRole\n",
    "\n",
    "load_dotenv()\n",
    "OPENAI_API_KEY = os.environ[\"OPENAI_API_KEY\"]\n",
    "ANTHROPIC_API_KEY = os.environ[\"ANTHROPIC_API_KEY\"]\n",
    "GEMINI_API_KEY = os.environ[\"GEMINI_API_KEY\"]\n",
    "\n",
    "TEST_MODELS ={\n",
    "    \"openai\": \"gpt-4o-mini\",\n",
    "    \"anthropic\": \"claude-3-5-haiku-20241022\",\n",
    "    \"gemini\": \"gemini-2.0-flash-001\"\n",
    "}\n",
    "\n",
    "TEST_THINKING_MODELS = {\n",
    "    \"openai\": \"o3-mini-2025-01-31\",\n",
    "    \"anthropic\": \"claude-3-7-sonnet-20250219\",\n",
    "    \"gemini\": \"gemini-2.0-flash-thinking-exp\"\n",
    "}\n",
    "\n",
    "# Helper function to run async code in notebook\n",
    "async def run_async(coro):\n",
    "    return await coro"
   ]
  },
  {
   "cell_type": "code",
   "execution_count": 43,
   "metadata": {},
   "outputs": [],
   "source": [
    "# Streaming response\n",
    "async def stream(provider_name: str, messages: list[Message]):\n",
    "    async with LLMSession.session_scope() as session:\n",
    "        # Create a streaming config\n",
    "        config = GenerationConfig(temperature=0.7)\n",
    "        \n",
    "        print(f\"{TEST_MODELS[provider_name]}:\")\n",
    "\n",
    "        async for chunk in session.generate_stream(\n",
    "            messages=messages,\n",
    "            provider_name=provider_name,\n",
    "            model=TEST_MODELS[provider_name],\n",
    "            config=config\n",
    "        ):\n",
    "            print(chunk.text, end=\"\", flush=True)\n"
   ]
  },
  {
   "cell_type": "code",
   "execution_count": 44,
   "metadata": {},
   "outputs": [],
   "source": [
    "import yaml\n",
    "\n",
    "from shuscribe.schemas.pipeline import Chapter\n",
    "\n",
    "with open(\"../backend/tests/resources/pokemon_amber/_meta.yaml\", \"r\") as f:\n",
    "    meta = yaml.safe_load(f)\n",
    "\n",
    "STORY_TITLE = meta.get('story_title')\n",
    "STORY_DESCRIPTION = meta.get('story_description')\n",
    "GENRES = meta.get('genres')\n",
    "ADDITIONAL_TAGS = meta.get('additional_tags')\n",
    "\n",
    "CHAPTERS = []\n",
    "for chapter in meta.get('chapters'):\n",
    "    with open(f\"../backend/tests/resources/pokemon_amber/{chapter}\", \"r\") as f:\n",
    "        chapter_id = chapter.split('.')[0]\n",
    "        try:\n",
    "            chapter_content = yaml.safe_load(f)\n",
    "            CHAPTERS.append(Chapter(id=chapter_id, title=chapter_content.get('title'), content=chapter_content.get('content')))\n",
    "        except Exception:\n",
    "            # print(f\"Error loading chapter {chapter}: {e}\")\n",
    "            continue\n"
   ]
  },
  {
   "cell_type": "markdown",
   "metadata": {},
   "source": [
    "# Chapter Summary"
   ]
  },
  {
   "cell_type": "code",
   "execution_count": 45,
   "metadata": {},
   "outputs": [],
   "source": [
    "# Set Provider Name\n",
    "PROVIDER_NAME = \"gemini\""
   ]
  },
  {
   "cell_type": "code",
   "execution_count": 46,
   "metadata": {},
   "outputs": [
    {
     "data": {
      "text/plain": [
       "[Message(role=<MessageRole.SYSTEM: 'system'>, content='You are an expert Narrative Knowledge Assistant, combining the skills of a literary analyst, teacher, and storytelling guide.', name=None),\n",
       " Message(role=<MessageRole.USER: 'user'>, content='# Overarching Goal\\nExtract and structure knowledge from the narrative while maintaining proper story progression context and preventing spoilers.\\n\\n# Narrative Context\\n\\n## Current Chapter\\n### Chapter 1: [Chapter 1] Truck-kun Strikes Again\\n\\n<Chapter>\\n\\'Fuck,\\' I thought, hunched over my phone in the fading afternoon light. My fingers hovered over the screen as if I could somehow intimidate the numbers into change.\\nMy Gyarados—level 40, carefully trained, survivor of multiple gym battles and approximately eight thousand random Pidgey and Mankey encounters—was down to a sliver of health. Across the battlefield, a level 37 Vulpix stared back with pixels that somehow managed to look smug. It had probably practiced that look in the mirror.\\nI\\'d already lost two good Pokemon this past hour. My box was only down to shitty Pokemon. I couldn\\'t lose another. Not now.\\nThe Pokemon Mansion sprawled across my phone screen in all its 8-bit glory, a maze of broken tiles and forgotten experiments. Outside my dorm window, campus life continued its usual Sunday afternoon rhythm—distant voices, someone practicing guitar badly, and the occasional burst of laughter. None were aware I was one critical hit away from losing weeks of careful training.\\nGyarados had been with me since Route 6. Just a Magikarp then, making the same old investment that everyone knows pays off—except this time, with perma-death rules, each level had felt like holding my breath underwater.\\nI could switch in Charizard—my starter, my ace—but the damn thing was already at the level cap. One more fight and it\\'d be benched until after Blaine. Kadabra might one-shot it with Psychic—if it didn\\'t get bodied first. My Dugtrio was a speed stat with hit points at this point, and Nidoking was still fucked up from that double-battle ambush earlier. Then there was the Growlithe I\\'d caught an hour ago, but sending it in would be straight-up murder.\\nFive options. Five ways to lose a teammate. Five—\\nA Discord notification slid down from the top of my screen. My thumb twitched instinctively to swipe it away, but the message caught my eye before I could dismiss it.\\n```\\nBigDKarp: @everyone SHADOW MEWTWO RAID AT LIBRARY GYM\\nBigDKarp: @EVERYONE 10 MIN WINDOW GET HERE NOW\\n```\\nCurious, I tapped the notification to see what the fuss was all about.\\n```\\n[March 22, 2024]\\nRaidenMain2: Hey, anyone hear about the shadow mewtwo event?\\nProfOaksFavStudent: starts next week right?\\nRaidenMain2: Does anyone want to head downtown for it?\\nMissingNo404: Down, what time does the event start?\\n[March 30, 2024]\\nBigDKarp: @everyone SHADOW MEWTWO RAID AT LIBRARY GYM\\nRaidenMain2: holy shit it\\'s on campus?\\nBigDKarp: @EVERYONE 10 MIN WINDOW GET HERE NOW\\n\\nBigDKarp: @everyone SHADOW MEWTWO AT LIBRARY\\nRaidenMain2: @everyone LETS GOOOOO\\nBigDKarp: TEN MINS LEFT\\nProfOaksFavStudent: @AlexaTheGreat where u at? we need ur Darkrai\\n```\\nI briefly swiped back to the emulator, hesitating over my next move before quickly tapping the menu and saving my state.\\n\\'I’ll deal with this later,\\' I decided. Shadow Mewtwo just sounded too cool and the battle wasn’t going anywhere. The early spring air bit at my face as I burst from the dorm building, nearly colliding with a cluster of freshmen who hadn\\'t learned that campus sidewalks have their own unwritten rules of navigation.\\nThe library stood sentinel across University Avenue. The crosswalk\\'s red hand blinked its warning—a traffic signal I\\'d normally respect. But the street stretched empty in both directions.\\nMy phone buzzed again.\\n```\\nRaidenMain2: @AlexaTheGreat where u at??\\nBigDKarp: 2 min until the raid @everyone HURRY IF YOU WANT SHADOW MEWTWO\\n```\\nMy phone\\'s screen painted my face in blue light as I jogged, the little avatar shuffling across a simplified version of my world—one minute forty-five seconds. The library\\'s Pokestop spun with casual indifference, promising digital treasures that suddenly seemed far less important as a deep mechanical groan vibrated through my bones.\\nA shadow fell across my phone. I looked up—too late, too slow—as steel and chrome filled my vision. Physics asserted itself with elegant simplicity: mass plus velocity equals the end of all your carefully laid plans.\\nMy last thoughts weren\\'t deep or meaningful. Nothing about family, nothing about wasted potential, not even the cosmic irony of dying for a mobile game. Instead, I thought about my Gyarados, frozen in time with that sliver of health, waiting for a command that would never come.\\nThen darkness. Not the dramatic fade-to-black of movies or the peaceful drift of sleep, but a sudden cessation of input, like someone yanked the cartridge out mid-game.\\n-[v.v]-\\nThe darkness didn\\'t last.\\nAwareness returned in fragments, each sensation filtered through amber fluid that pressed against me like thick honey. The world beyond my container was a blur of orange-tinted shadows. I floated, suspended in something that felt thicker than water, almost syrupy against my skin. My lungs should have been burning, demanding air, but they felt eerily still, as if my body had forgotten it needed to breathe.\\nSound reached me in waves, distorted and strange. Everything felt muffled except for the deep vibrations that traveled through the fluid itself, pressing against skin that felt too new, too small, like clothes that had shrunk in the wash. A tremor rippled through my container, and another, each one stronger than the last. Then came a sound that defied description—something between a roar and a thought-given voice, so deep it seemed to resonate in bones I wasn\\'t sure were mine anymore.\\nWhen the container finally gave way, it wasn\\'t gradual. Hairline fractures spiderwebbed across my visible world, transforming the emergency lights into kaleidoscopic fragments. The final crack came sharp and decisive, and suddenly the world was cold air and gravity and sensation that felt too sharp, too real.\\nStrong arms caught me before I could fall—arms that seemed impossibly large, attached to a middle-aged man whose tear-streaked face loomed above me. Everything was wrong, scaled up as if I\\'d somehow shrunk in my moment of unconsciousness. I went to return his embrace instinctively, the way you do when someone is crying and holding you, but the arms that responded to my commands weren\\'t mine. These were delicate things. Pale. Small. Unblemished. Just… wrong.\\n\"Amber,\" the giant middle-aged man choked out, his voice thick with emotion. \"You\\'re alive. You\\'re really alive.\"\\nHe pulled back just enough to shrug off his lab coat with shaking hands, wrapping it around my shoulders with gentle urgency. The fabric draped over me like a tent, still warm from his body and carrying a mix of scents—antiseptic, coffee, and something earthy that spoke of long hours in this underground lab. The simple act of covering me seemed to steady him somehow, as if the familiar motion of caring for a child helped anchor him in this impossible moment.\\nMy attempt at speech emerged as a quiet \"Who...?\" and even that single word felt like a betrayal. The voice wasn\\'t mine—too high, too young, distinctly feminine in ways that sent fresh waves of confusion through my already overwhelmed mind.\\nThe tears falling on my face mixed with residual amber fluid, creating trails of warmth that felt impossibly intimate. The man held me like something precious, something miraculous, and through the blur of liquid and tears, I studied his face. There was something familiar there, something I should recognize, but understanding stayed just out of reach.\\nIn my peripheral vision, something caught my eye.\\nA tail. Purple and massive, sweeping through broken equipment with casual, elegant destruction. Trails of violet energy hung in the air behind it, making the world look unstable, and unfinished. And there, suspended in the chaos of its own liberation, was Mewtwo. Not the 8-bit sprite or 3d render of the modern games, but something raw and primal and terrifyingly real. Its form rippled with power that hadn\\'t quite settled into being, each movement carrying the weight of something that existed outside the natural order.\\nOur eyes met, and primal terror froze me in place. Every Pokemon instinct screamed that eye contact meant a battle was about to start—but reality had its own cruel humor. No menu would slide into view, no convenient mechanics would save me. Just raw existence: me in this too-small body that felt like borrowed clothing, facing down a creature that had transcended from pixels to godhood without bothering to include a user manual.\\nTime stretched between us, neither moving, neither breathing. Something flickered in those violet eyes—recognition? Memory?—before reality came crashing back in the form of a torrent of flames that caught Mewtwo in its side. The legendary Pokemon tumbled through the air, its psychic shield materializing like heat shimmer before steadying.\\nThe moment shattered, and pure survival instinct took over.\\n\"We have to go!\" My borrowed voice cracked with urgency as I tugged at the giant man\\'s lab coat. The pieces suddenly clicked into place like a puzzle I hadn\\'t known I was solving—the liquid tank, the legendary Pokémon wreaking havoc above us, this man\\'s tears of joy. This wasn\\'t just any scientist, and I wasn\\'t in just any facility. The reality of my situation hit me with the force of a truck: I was standing in front of Dr. Fuji himself, wearing his dead daughter\\'s form, while the most powerful Pokémon ever created battled it out.\\nDr. Fuji nodded and wiped his tears, though he kept staring at me with a hint of disbelief.\\nHe scooped me up without hesitation, and suddenly the world viewed from his height made everything more alien. The laboratory was in chaos—emergency lights cutting red swaths through steam clouds, while sparks rained from destroyed equipment like artificial stars. The air itself felt wrong, charged with an electric tension that made my skin prickle and my hair stand on end.\\nThrough the mayhem, I caught glimpses of other tanks like mine, now reduced to modern art installations of shattered glass and spilled amber fluid. A security guard\\'s Arcanine launched another stream of flames, catching Mewtwo mid-hover. For all its legendary status, basic physics still applied—the impact slammed it into reinforced concrete hard enough to crack both. Pain flashed across its features, quickly transforming into something darker, something that promised retribution.\\nFor a moment, I thought we were about to witness exactly why the games classified it as being the world’s strongest pokemon. But instead, it glanced between the Arcanine, the damaged wall, and—briefly—at me.\\nThen, with a pulse of psychic energy that shattered every remaining bit of glass in the room, it blasted upward through the ceiling. Moonlight poured in through the new skylight, illuminating the destruction below. Dr. Fuji\\'s arms tightened around me with sudden urgency, pulling me against his chest and tucking my head under his chin. The world compressed to darkness, heartbeats, and the smell of the amber fluid still clinging to his lab coat.\\nSound painted the picture I couldn\\'t see—the thunderous cascade of falling concrete, the crystalline symphony of shattering glass, something that might have been a support beam groaning its way to failure. Through it all, Dr. Fuji\\'s arms remained steady, though I could feel tremors running through him each time something heavy struck nearby.\\nWhen the crashes finally faded to scattered plinks and the occasional distant rumble, Dr. Fuji\\'s grip loosened. I pulled back, blinking in the strange new light. Moonlight streamed through a jagged hole that had once been a ceiling, painting silver highlights on broken equipment and scattered research.\\nAcross the room, reality had stopped trying to make sense. Alarms wailed in competing frequencies—high-pitched containment breach warnings mixing with the deeper drone of structural failure alerts, creating a discordant symphony that made my teeth ache. Through the cacophony, I watched a partially-formed Kadabra variant suddenly glitch into the half-destroyed lab, its too-many-fingers leaving trails of psychic energy in the air, before disappearing again.\\nA pained grunt drew my attention back to Dr. Fuji. He was hunched forward now, one hand pressed against the wall for support while the other still tried to keep me steady. His clothes had been shredded across the back, and through the tears, I could see angry red welts already darkening to bruises where chunks of ceiling had struck. A particularly nasty gash along his shoulder blade was slowly painting his clothes crimson.\\n\"A-Are you alright?\" The question slipped out in my new voice, high and clear and caring in a way that surprised me.\\nDr. Fuji\\'s grunt of pain pulled me back from my daze. He was already reaching for me again, his arms trembling slightly but determined. Despite the chaos—or perhaps because of it—his focus remained entirely on me as if the legendary Pokémon wreaking havoc above us was merely an inconvenience.\\nWe picked our way across what remained of the laboratory floor, my bare feet finding surprising purchase on debris-scattered tiles. The reinforced door hung askew on its hinges, blown outward by Mewtwo\\'s psychic blast. Beyond it, the scene transformed with jarring suddenness—no more clinical white walls or exposed machinery, just the refined interior of what could have been any wealthy estate. Wood paneling replaced sterile steel and ornate light fixtures cast shadows where monitoring equipment should have been.\\nThe hallway held a handful of scientists in various states of panic, their lab coats looking strangely out of place against the mansion\\'s carefully curated aesthetic. Two security guards tried maintaining order while radioing for backup, their professional demeanor cracking under the weight of what they\\'d just witnessed. Through a doorway, someone hurriedly disconnected a hard drive, hands shaking as they worked. Fragments of conversation floated above the chaos...\\n\"...security breach in the east wing, we need...\"\\n\"...containment field\\'s down in Enhancement Lab Three...\"\\n“...Fuji’s legendary clone…”\\n\"...the evolution acceleration chamber is overloading...\"\\nThe facility\\'s emergency lighting painted everything in harsh red pulses as we made our way through the corridors, but now real flames were beginning to join the artificial warning lights. Smoke curled along the ceiling in lazy ribbons, and I could feel the temperature rising with each step. The lab coat around my shoulders felt less comforting now, its fabric growing warm from more than just body heat. I couldn\\'t stop staring at Dr. Fuji\\'s back, watching crimson slowly seep through his clothes while orange light from growing fires cast dancing shadows around us. Each step seemed to cost him, though he never loosened his grip on my hand.\\n\"Everything will be different now,\" Dr. Fuji said softly, his voice barely carrying over the crackle of flames behind us. Orange light painted the treeline in false sunset, while smoke curled through branches. \"We can fix it all—our family, our life. Everything.\"\\n\\n</Chapter>\\n\\n# Instructions\\n\\n- Generate a comprehensive summary that captures key narrative/plot developments, and major literary elements (e.g. foreshadowing, symbolism, allusions, etc.) from the provided chapter woven into the summary\\n- The summary should reflect only information available to the reader at this point in the story, or information that is common knowledge of through literary allusions/pop culture references\\n- Separate the summary scene by scene and weave in literary elements\\n- Please format the summary using Markdown to provide a clear and readable summary\\n- Start the proper summary with \\'<|STARTOFSUMMARY|>\\\\n# Summary\\' and end with \\'<|ENDOFSUMMARY|>\\'', name=None)]"
      ]
     },
     "execution_count": 46,
     "metadata": {},
     "output_type": "execute_result"
    }
   ],
   "source": [
    "from shuscribe.services.llm.prompts.manager import PromptManager\n",
    "\n",
    "prompt_manager = PromptManager()\n",
    "\n",
    "messages: list[Message] = prompt_manager.chapter.summary(\n",
    "    current_chapter=CHAPTERS[0],\n",
    ")\n",
    "\n",
    "messages"
   ]
  },
  {
   "cell_type": "code",
   "execution_count": 47,
   "metadata": {},
   "outputs": [
    {
     "name": "stdout",
     "output_type": "stream",
     "text": [
      "gemini-2.0-flash-001:\n",
      "Okay, I'm ready to read the chapter and provide a detailed, progressive summary, pointing out literary elements as I go.\n",
      "\n",
      "<|STARTOFSUMMARY|>\n",
      "# Summary\n",
      "\n",
      "**Scene 1: A Gamer's Dilemma**\n",
      "\n",
      "The chapter opens with the protagonist, AlexaTheGreat, deeply engrossed in a Pokémon game on an emulator. The stakes are high due to perma-death rules, and she's facing a challenging battle in the Pokemon Mansion. The description of her carefully trained Gyarados being on its last sliver of health immediately establishes tension and highlights the dedication she has to the game. The mention of past battles and the fear of losing further Pokémon emphasizes the high-stakes nature of her gaming experience. The setting is her dorm room, contrasting the mundane reality of campus life with the intense virtual world she inhabits. This contrast foreshadows the blurring of reality and the virtual that will occur later in the chapter. The internal monologue reveals her strategic thinking and the emotional investment she has in her Pokémon, particularly Gyarados, highlighting a deep connection formed through virtual perseverance.\n",
      "\n",
      "**Scene 2: Shadow Mewtwo Beckons**\n",
      "\n",
      "A Discord notification about a Shadow Mewtwo raid at the library gym disrupts Alexa's game. The urgency of the messages, with phrases like \"10 MIN WINDOW GET HERE NOW,\" creates a sense of FOMO (Fear Of Missing Out) and immediately shifts her focus. The previous Discord messages included establish the timeline and build anticipation for the event. The allure of a rare in-game event, especially Shadow Mewtwo, is strong enough to make her abandon her current battle, saving her state and rushing out. This decision, driven by the excitement of the game, establishes a key plot point: her pursuit of Shadow Mewtwo will lead to unforeseen consequences.\n",
      "\n",
      "**Scene 3: A Fatal Distraction**\n",
      "\n",
      "As Alexa rushes towards the library, her phone screen illuminates her face, underscoring the immersive nature of the augmented reality game. Her disregard for traffic signals symbolizes her absorption in the virtual world, foreshadowing the tragic event to come. The mechanical groan and the looming shadow are classic suspense techniques, signaling impending danger. The abrupt end, with \"mass plus velocity equals the end of all your carefully laid plans,\" is a stark and brutal depiction of her death, emphasizing the sudden and unexpected nature of the accident. Her final thoughts about her Gyarados, frozen in time, highlight the abrupt interruption of her life and the unfinished nature of her virtual journey, creating a poignant sense of loss. The death by truck is a classic isekai trope, subverted somewhat by focusing on the protagonist's regrets about the game rather than a more philosophical outlook.\n",
      "\n",
      "**Scene 4: Rebirth in Amber**\n",
      "\n",
      "The darkness following death is not the expected \"fade-to-black,\" but a \"cessation of input,\" a technical description that reinforces the gaming context of her life. Awareness returns in a fragmented, sensory-overloaded manner, with her suspended in an amber fluid. The amber fluid itself is symbolic, reminiscent of Jurassic Park and suggesting a scientific experiment or resurrection theme. The description of the fluid and the muffled sounds creates a sense of disorientation and unease. The deep vibrations and the indescribable roar foreshadow the presence of a powerful and unnatural entity.\n",
      "\n",
      "**Scene 5: \"Amber, You're Alive.\"**\n",
      "\n",
      "The container breaks, and Alexa finds herself in a new, smaller body, held by a tearful, middle-aged man. The man's words, \"Amber, you're alive,\" are both a relief and a source of confusion, hinting at a previous life and a possible resurrection. The lab coat, with its familiar scents, provides a temporary comfort, but also underscores the strangeness of the situation. Her inability to speak in her own voice and the discovery that the arms aren't hers amplifies the feeling of displacement and identity loss. The man's familiar yet unrecognizable face adds to the mystery, suggesting a personal connection that she cannot immediately grasp.\n",
      "\n",
      "**Scene 6: Mewtwo's Awakening**\n",
      "\n",
      "The appearance of Mewtwo, described as \"raw and primal and terrifyingly real,\" marks a critical turning point. This is no longer a game; the virtual has become tangible and dangerous. The violet energy and the unstable world emphasize the chaotic and unnatural nature of Mewtwo's existence. The eye contact between Alexa and Mewtwo is laden with tension and the unspoken threat of battle. The interruption by flames and the instinct for survival kick in, forcing her to act.\n",
      "\n",
      "**Scene 7: Escape from the Lab**\n",
      "\n",
      "Alexa's realization that she's in front of Dr. Fuji and wearing his dead daughter's form is a major revelation. This confirms her suspicions and provides context for the bizarre events. The chaos of the laboratory, with its shattered glass and emergency lights, underscores the destructive power of Mewtwo. The glimpses of other tanks suggest that she's not the only experiment. The Arcanine's attack on Mewtwo, while momentarily effective, highlights the legendary Pokémon's resilience. Mewtwo's glance at Alexa hints at a possible connection or recognition. The escape from the collapsing laboratory, with Dr. Fuji's protective embrace, creates a sense of urgency and vulnerability.\n",
      "\n",
      "**Scene 8: A World Transformed**\n",
      "\n",
      "The transition from the sterile laboratory to the refined interior of the mansion is jarring, highlighting the contrast between science and luxury. The presence of other scientists and security guards in panic emphasizes the scale of the crisis. The fragments of conversation provide clues about the experiments and the containment breach. The rising temperature and the growing flames create a sense of imminent danger. Dr. Fuji's promise that \"everything will be different now\" is both hopeful and ominous, suggesting a desire to rewrite the past and a willingness to go to extreme measures. The final image of orange light and smoke through the trees creates a surreal and unsettling atmosphere, leaving the reader with many unanswered questions.\n",
      "<|ENDOFSUMMARY|>"
     ]
    },
    {
     "name": "stderr",
     "output_type": "stream",
     "text": [
      "Database module not implemented. Skipping save.\n"
     ]
    }
   ],
   "source": [
    "streaming_response = await run_async(stream(PROVIDER_NAME, messages))"
   ]
  }
 ],
 "metadata": {
  "kernelspec": {
   "display_name": ".venv",
   "language": "python",
   "name": "python3"
  },
  "language_info": {
   "codemirror_mode": {
    "name": "ipython",
    "version": 3
   },
   "file_extension": ".py",
   "mimetype": "text/x-python",
   "name": "python",
   "nbconvert_exporter": "python",
   "pygments_lexer": "ipython3",
   "version": "3.12.9"
  }
 },
 "nbformat": 4,
 "nbformat_minor": 2
}
