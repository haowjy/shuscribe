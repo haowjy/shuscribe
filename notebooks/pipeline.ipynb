{
 "cells": [
  {
   "cell_type": "markdown",
   "metadata": {},
   "source": [
    "# Setup"
   ]
  },
  {
   "cell_type": "code",
   "execution_count": 1,
   "metadata": {},
   "outputs": [],
   "source": [
    "%load_ext autoreload\n",
    "%autoreload 2\n",
    "\n",
    "import sys\n",
    "from pathlib import Path\n",
    "\n",
    "# Path('../backend/shuscribe').resolve()\n",
    "sys.path.insert(0, str(Path('../backend').resolve()))"
   ]
  },
  {
   "cell_type": "code",
   "execution_count": 2,
   "metadata": {},
   "outputs": [],
   "source": [
    "# Import necessary modules\n",
    "import asyncio\n",
    "from dotenv import load_dotenv\n",
    "import os\n",
    "from shuscribe.services.llm.session import LLMSession\n",
    "from shuscribe.services.llm.providers.provider import (\n",
    "    Message, GenerationConfig\n",
    ")\n",
    "from shuscribe.schemas.llm import MessageRole\n",
    "\n",
    "load_dotenv()\n",
    "OPENAI_API_KEY = os.environ[\"OPENAI_API_KEY\"]\n",
    "ANTHROPIC_API_KEY = os.environ[\"ANTHROPIC_API_KEY\"]\n",
    "GEMINI_API_KEY = os.environ[\"GEMINI_API_KEY\"]\n",
    "\n",
    "TEST_MODELS ={\n",
    "    \"openai\": \"gpt-4o-mini\",\n",
    "    \"anthropic\": \"claude-3-5-haiku-20241022\",\n",
    "    \"gemini\": \"gemini-2.0-flash-001\"\n",
    "}\n",
    "\n",
    "TEST_THINKING_MODELS = {\n",
    "    \"openai\": \"o3-mini-2025-01-31\",\n",
    "    \"anthropic\": \"claude-3-7-sonnet-20250219\",\n",
    "    \"gemini\": \"gemini-2.0-flash-thinking-exp\"\n",
    "}\n",
    "\n",
    "# Helper function to run async code in notebook\n",
    "async def run_async(coro):\n",
    "    return await coro"
   ]
  },
  {
   "cell_type": "code",
   "execution_count": 3,
   "metadata": {},
   "outputs": [],
   "source": [
    "# Streaming response\n",
    "from typing import Type\n",
    "from pydantic import BaseModel\n",
    "from shuscribe.services.llm.streaming import StreamStatus\n",
    "\n",
    "\n",
    "async def stream(provider_name: str, messages: list[Message], response_schema: Type[BaseModel] | None = None):\n",
    "    async with LLMSession.session_scope() as session:\n",
    "        # Create a streaming config\n",
    "        config = GenerationConfig(\n",
    "            temperature=0.7,\n",
    "            response_schema=response_schema if response_schema else None\n",
    "        )\n",
    "        \n",
    "        print(f\"{TEST_MODELS[provider_name]}:\")\n",
    "\n",
    "        async for chunk in session.generate_stream(\n",
    "            messages=messages,\n",
    "            provider_name=provider_name,\n",
    "            model=TEST_MODELS[provider_name],\n",
    "            config=config\n",
    "        ):\n",
    "            print(chunk.text, end=\"\", flush=True)\n",
    "\n",
    "    if chunk:\n",
    "        if chunk.status == StreamStatus.COMPLETE:\n",
    "            return chunk.accumulated_text\n"
   ]
  },
  {
   "cell_type": "code",
   "execution_count": 4,
   "metadata": {},
   "outputs": [],
   "source": [
    "import yaml\n",
    "\n",
    "from shuscribe.schemas.pipeline import Chapter, StoryMetadata\n",
    "\n",
    "with open(\"../backend/tests/resources/pokemon_amber/_meta.yaml\", \"r\") as f:\n",
    "    meta = yaml.safe_load(f)\n",
    "    STORY_METADATA = StoryMetadata(\n",
    "        title=meta.get('story_title'),\n",
    "        description=meta.get('story_description'),\n",
    "        genres=meta.get('genres'),\n",
    "        additional_tags=meta.get('additional_tags')\n",
    "    )\n",
    "\n",
    "CHAPTERS = []\n",
    "for chapter in meta.get('chapters'):\n",
    "    with open(f\"../backend/tests/resources/pokemon_amber/{chapter}\", \"r\") as f:\n",
    "        chapter_id = chapter.split('.')[0]\n",
    "        try:\n",
    "            chapter_content = yaml.safe_load(f)\n",
    "            CHAPTERS.append(Chapter(id=chapter_id, title=chapter_content.get('title'), content=chapter_content.get('content')))\n",
    "        except Exception:\n",
    "            continue\n"
   ]
  },
  {
   "cell_type": "markdown",
   "metadata": {},
   "source": [
    "# Summarization Pipeline"
   ]
  },
  {
   "cell_type": "markdown",
   "metadata": {},
   "source": [
    "## Chapter Summary"
   ]
  },
  {
   "cell_type": "code",
   "execution_count": 5,
   "metadata": {},
   "outputs": [],
   "source": [
    "# Set Provider Name\n",
    "PROVIDER_NAME = \"gemini\"\n",
    "CHAPTER_INDEX = 0"
   ]
  },
  {
   "cell_type": "code",
   "execution_count": 6,
   "metadata": {},
   "outputs": [
    {
     "name": "stdout",
     "output_type": "stream",
     "text": [
      "gemini-2.0-flash-001:\n",
      "<|STARTOFSUMMARY|>\n",
      "# Chapter Summary\n",
      "\n",
      "### Real-World Intro: A Gamer's Dilemma\n",
      "*   The protagonist, a dedicated Pokémon player, is on the verge of losing a crucial battle in Pokémon Mansion on an emulator.\n",
      "    *   Her Gyarados is at critical health against a Vulpix.\n",
      "    *   She's reluctant to switch out her Pokémon due to the risk of losing them permanently, given the perma-death rules she's playing with.\n",
      "*   A Discord notification alerts her to a Shadow Mewtwo raid happening at the library gym on campus.\n",
      "    *   She saves her game state and decides to attend the raid.\n",
      "*   While rushing to the raid, she gets hit by a truck.\n",
      "    *   Her last thought is about her Gyarados.\n",
      "\n",
      "### Rebirth: An Amber Awakening\n",
      "*   The protagonist wakes up in a tank filled with amber fluid.\n",
      "    *   She feels disconnected from her body.\n",
      "    *   She can hear muffled sounds and feel vibrations.\n",
      "*   The tank breaks, and she's caught by a middle-aged man, who is overjoyed.\n",
      "    *   The man calls her \"Amber\".\n",
      "    *   She realizes she's in a child's body and her voice is not her own.\n",
      "*   She sees Mewtwo wreaking havoc in the lab. [!WORLD]\n",
      "    *   Mewtwo appears incredibly real and powerful.\n",
      "    *   Mewtwo and \"Amber\" lock eyes, and she experiences primal terror.\n",
      "\n",
      "### Escape: Chaos and Revelation\n",
      "*   An Arcanine attacks Mewtwo with a torrent of flames.\n",
      "*   \"Amber\" urges the man, Dr. Fuji, to escape. [!CHARACTER]\n",
      "    *   She realizes she's been reborn as Dr. Fuji's clone daughter, Amber, in his laboratory. [!WORLD]\n",
      "*   Dr. Fuji carries her through the damaged laboratory.\n",
      "    *   They pass other broken tanks, implying other experiments.\n",
      "    *   They witness a security guard's Arcanine attacking Mewtwo.\n",
      "    *   Mewtwo blasts through the ceiling and escapes.\n",
      "*   Dr. Fuji shields \"Amber\" from the falling debris.\n",
      "*   They navigate their way out of the lab and into a mansion-like area.\n",
      "    *   They pass panicking scientists and security guards.\n",
      "    *   Conversations indicate a security breach and issues with the \"legendary clone\" and \"evolution acceleration chamber.\" [!WORLD]\n",
      "*   Dr. Fuji is injured from the debris.\n",
      "*   As they escape, Dr. Fuji expresses his determination to fix everything, referring to their family and life. [!CHARACTER] [!FORESHADOW]\n",
      "\n",
      "<|ENDOFSUMMARY|>"
     ]
    },
    {
     "name": "stderr",
     "output_type": "stream",
     "text": [
      "Database module not implemented. Skipping save.\n"
     ]
    }
   ],
   "source": [
    "from shuscribe.schemas.wikigen.summary import ChapterSummary\n",
    "from shuscribe.services.llm.prompts import templates\n",
    "\n",
    "templates.chapter.summary.reload()\n",
    "messages: list[Message] = templates.chapter.summary.format( \n",
    "    current_chapter=CHAPTERS[CHAPTER_INDEX],\n",
    "    story_metadata=STORY_METADATA,\n",
    "    # current_chapter=Chapter(id=1, title=\"Chapter 1\", content=\"This is a test chapter.\")\n",
    ")\n",
    "\n",
    "# print(messages[-1].content)\n",
    "\n",
    "summary_response = await run_async(stream(PROVIDER_NAME, messages))\n",
    "chapter_summary = ChapterSummary.from_chapter_summary(CHAPTER_INDEX, summary_response)"
   ]
  },
  {
   "cell_type": "markdown",
   "metadata": {},
   "source": [
    "## Extract Entities"
   ]
  },
  {
   "cell_type": "code",
   "execution_count": 7,
   "metadata": {},
   "outputs": [
    {
     "data": {
      "text/plain": [
       "'<Content>\\n\\n# Chapter Summary\\n\\n### Real-World Intro: A Gamer\\'s Dilemma\\n*   The protagonist, a dedicated Pokémon player, is on the verge of losing a crucial battle in Pokémon Mansion on an emulator.\\n    *   Her Gyarados is at critical health against a Vulpix.\\n    *   She\\'s reluctant to switch out her Pokémon due to the risk of losing them permanently, given the perma-death rules she\\'s playing with.\\n*   A Discord notification alerts her to a Shadow Mewtwo raid happening at the library gym on campus.\\n    *   She saves her game state and decides to attend the raid.\\n*   While rushing to the raid, she gets hit by a truck.\\n    *   Her last thought is about her Gyarados.\\n\\n### Rebirth: An Amber Awakening\\n*   The protagonist wakes up in a tank filled with amber fluid.\\n    *   She feels disconnected from her body.\\n    *   She can hear muffled sounds and feel vibrations.\\n*   The tank breaks, and she\\'s caught by a middle-aged man, who is overjoyed.\\n    *   The man calls her \"Amber\".\\n    *   She realizes she\\'s in a child\\'s body and her voice is not her own.\\n*   She sees Mewtwo wreaking havoc in the lab. [!WORLD]\\n    *   Mewtwo appears incredibly real and powerful.\\n    *   Mewtwo and \"Amber\" lock eyes, and she experiences primal terror.\\n\\n### Escape: Chaos and Revelation\\n*   An Arcanine attacks Mewtwo with a torrent of flames.\\n*   \"Amber\" urges the man, Dr. Fuji, to escape. [!CHARACTER]\\n    *   She realizes she\\'s been reborn as Dr. Fuji\\'s clone daughter, Amber, in his laboratory. [!WORLD]\\n*   Dr. Fuji carries her through the damaged laboratory.\\n    *   They pass other broken tanks, implying other experiments.\\n    *   They witness a security guard\\'s Arcanine attacking Mewtwo.\\n    *   Mewtwo blasts through the ceiling and escapes.\\n*   Dr. Fuji shields \"Amber\" from the falling debris.\\n*   They navigate their way out of the lab and into a mansion-like area.\\n    *   They pass panicking scientists and security guards.\\n    *   Conversations indicate a security breach and issues with the \"legendary clone\" and \"evolution acceleration chamber.\" [!WORLD]\\n*   Dr. Fuji is injured from the debris.\\n*   As they escape, Dr. Fuji expresses his determination to fix everything, referring to their family and life. [!CHARACTER] [!FORESHADOW]\\n\\n\\n</Content>'"
      ]
     },
     "execution_count": 7,
     "metadata": {},
     "output_type": "execute_result"
    }
   ],
   "source": [
    "chapter_summary.to_prompt()"
   ]
  },
  {
   "cell_type": "code",
   "execution_count": 11,
   "metadata": {},
   "outputs": [
    {
     "name": "stdout",
     "output_type": "stream",
     "text": [
      "# Task\n",
      "Identify and extract all significant narrative entities from this chapter.\n",
      "\n",
      "# Story Metadata\n",
      "Title: Pokemon: Ambertwo [Pokemon Fanfic/Isekai]\n",
      "Genres: ['Drama', 'Action', 'Adventure', 'Fantasy']\n",
      "Additional Tags: ['Reincarnation', 'Portal Fantasy/Isekai', 'Fan Fiction', 'Female Lead', 'Genetically Engineered']\n",
      "Description: |\n",
      "Pokemon fan gets isekai'd to the Pokemon world as a little girl.\n",
      "\n",
      "Join Dr. Fuji's apparently successful clone, as she explores this mishmash of Pokemon media.\n",
      "\n",
      "# Narrative Context\n",
      "\n",
      "## Current Chapter\n",
      "\n",
      "### [1] Chapter 1\n",
      "<Content>\n",
      "This is a test chapter.\n",
      "</Content>\n",
      "\n",
      "## Current Chapter Summary\n",
      "<Content>\n",
      "\n",
      "# Chapter Summary\n",
      "\n",
      "### Real-World Intro: A Gamer's Dilemma\n",
      "*   The protagonist, a dedicated Pokémon player, is on the verge of losing a crucial battle in Pokémon Mansion on an emulator.\n",
      "    *   Her Gyarados is at critical health against a Vulpix.\n",
      "    *   She's reluctant to switch out her Pokémon due to the risk of losing them permanently, given the perma-death rules she's playing with.\n",
      "*   A Discord notification alerts her to a Shadow Mewtwo raid happening at the library gym on campus.\n",
      "    *   She saves her game state and decides to attend the raid.\n",
      "*   While rushing to the raid, she gets hit by a truck.\n",
      "    *   Her last thought is about her Gyarados.\n",
      "\n",
      "### Rebirth: An Amber Awakening\n",
      "*   The protagonist wakes up in a tank filled with amber fluid.\n",
      "    *   She feels disconnected from her body.\n",
      "    *   She can hear muffled sounds and feel vibrations.\n",
      "*   The tank breaks, and she's caught by a middle-aged man, who is overjoyed.\n",
      "    *   The man calls her \"Amber\".\n",
      "    *   She realizes she's in a child's body and her voice is not her own.\n",
      "*   She sees Mewtwo wreaking havoc in the lab. [!WORLD]\n",
      "    *   Mewtwo appears incredibly real and powerful.\n",
      "    *   Mewtwo and \"Amber\" lock eyes, and she experiences primal terror.\n",
      "\n",
      "### Escape: Chaos and Revelation\n",
      "*   An Arcanine attacks Mewtwo with a torrent of flames.\n",
      "*   \"Amber\" urges the man, Dr. Fuji, to escape. [!CHARACTER]\n",
      "    *   She realizes she's been reborn as Dr. Fuji's clone daughter, Amber, in his laboratory. [!WORLD]\n",
      "*   Dr. Fuji carries her through the damaged laboratory.\n",
      "    *   They pass other broken tanks, implying other experiments.\n",
      "    *   They witness a security guard's Arcanine attacking Mewtwo.\n",
      "    *   Mewtwo blasts through the ceiling and escapes.\n",
      "*   Dr. Fuji shields \"Amber\" from the falling debris.\n",
      "*   They navigate their way out of the lab and into a mansion-like area.\n",
      "    *   They pass panicking scientists and security guards.\n",
      "    *   Conversations indicate a security breach and issues with the \"legendary clone\" and \"evolution acceleration chamber.\" [!WORLD]\n",
      "*   Dr. Fuji is injured from the debris.\n",
      "*   As they escape, Dr. Fuji expresses his determination to fix everything, referring to their family and life. [!CHARACTER] [!FORESHADOW]\n",
      "\n",
      "\n",
      "</Content>\n",
      "\n",
      "# Instructions\n",
      "- Extract and classify all significant narrative entities in this chapter\n",
      "- Focus on these entity types:\n",
      "\t1. characters: People, beings, or sentient entities (including unnamed)\n",
      "\t2. locations: Places, settings, or spatial environments\n",
      "\t3. events: Significant occurrences, happenings, or incidents\n",
      "\t4. items: Physical objects or artifacts with narrative significance\n",
      "\t5. concepts: Abstract systems, powers, theories, or ideas important to the world\n",
      "\t6. groups: Collections of characters (including organizations, factions, etc.)\n",
      "\t7. time_periods: Significant temporal ranges or eras\n",
      "\t8. cultures: Societal patterns, practices, and beliefs\n",
      "\t9. themes: Recurring ideas, motifs, or messages\n",
      "\t10. symbolisms: Symbolic elements and their meanings\n",
      "\t11. allusions: References to other works, events, or cultural touchpoints\n",
      "\t12. others: Elements not fitting other categories\n",
      "\n",
      "  \n"
     ]
    }
   ],
   "source": [
    "\n",
    "\n",
    "templates.entity.extract.reload()\n",
    "messages: list[Message] = templates.entity.extract.format( \n",
    "    # current_chapter=CHAPTERS[CHAPTER_INDEX],\n",
    "    current_chapter=Chapter(id=1, title=\"Chapter 1\", content=\"This is a test chapter.\"),\n",
    "    story_metadata=STORY_METADATA,\n",
    "    chapter_summary=chapter_summary,\n",
    ")\n",
    "\n",
    "print(messages[-1].content)\n",
    "\n",
    "# streaming_response = await run_async(stream(PROVIDER_NAME, messages))"
   ]
  },
  {
   "cell_type": "code",
   "execution_count": null,
   "metadata": {},
   "outputs": [],
   "source": []
  }
 ],
 "metadata": {
  "kernelspec": {
   "display_name": ".venv",
   "language": "python",
   "name": "python3"
  },
  "language_info": {
   "codemirror_mode": {
    "name": "ipython",
    "version": 3
   },
   "file_extension": ".py",
   "mimetype": "text/x-python",
   "name": "python",
   "nbconvert_exporter": "python",
   "pygments_lexer": "ipython3",
   "version": "3.12.9"
  }
 },
 "nbformat": 4,
 "nbformat_minor": 2
}
