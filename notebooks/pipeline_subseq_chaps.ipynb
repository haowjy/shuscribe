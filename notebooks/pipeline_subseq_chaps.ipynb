{
 "cells": [
  {
   "cell_type": "markdown",
   "metadata": {},
   "source": [
    "# Setup"
   ]
  },
  {
   "cell_type": "code",
   "execution_count": 1,
   "metadata": {},
   "outputs": [],
   "source": [
    "%load_ext autoreload\n",
    "%autoreload 2\n",
    "\n",
    "import sys\n",
    "from pathlib import Path\n",
    "\n",
    "# Path('../backend/shuscribe').resolve()\n",
    "sys.path.insert(0, str(Path('../backend').resolve()))"
   ]
  },
  {
   "cell_type": "code",
   "execution_count": 2,
   "metadata": {},
   "outputs": [],
   "source": [
    "# CONSTANTS\n",
    "\n",
    "USE_CACHED_RESPONSES = True\n",
    "# TODO: KEEP CHANGING THIS TO GET THE NEXT CHAPTER, STARTING FROM 1\n",
    "CHAPTER_INDEX = 1"
   ]
  },
  {
   "cell_type": "code",
   "execution_count": 3,
   "metadata": {},
   "outputs": [],
   "source": [
    "# Import necessary modules\n",
    "import asyncio\n",
    "from dotenv import load_dotenv\n",
    "import os\n",
    "import json\n",
    "from shuscribe.services.llm.session import LLMSession\n",
    "from shuscribe.services.llm.providers.provider import (\n",
    "    Message, GenerationConfig\n",
    ")\n",
    "from IPython.display import Markdown\n",
    "\n",
    "load_dotenv()\n",
    "OPENAI_API_KEY = os.environ[\"OPENAI_API_KEY\"]\n",
    "ANTHROPIC_API_KEY = os.environ[\"ANTHROPIC_API_KEY\"]\n",
    "GEMINI_API_KEY = os.environ[\"GEMINI_API_KEY\"]\n",
    "\n",
    "TEST_MODELS ={\n",
    "    \"openai\": \"gpt-4o-mini\",\n",
    "    \"anthropic\": \"claude-3-5-haiku-20241022\",\n",
    "    \"gemini\": \"gemini-2.0-flash-001\"\n",
    "}\n",
    "\n",
    "TEST_THINKING_MODELS = {\n",
    "    \"openai\": \"o3-mini-2025-01-31\",\n",
    "    \"anthropic\": \"claude-3-7-sonnet-20250219\",\n",
    "    \"gemini\": \"gemini-2.0-flash-thinking-exp\"\n",
    "}\n",
    "\n",
    "STORY_DIR = Path(\"../backend/tests/resources/pokemon_amber\")\n",
    "\n",
    "# Helper function to run async code in notebook\n",
    "async def run_async(coro):\n",
    "    return await coro"
   ]
  },
  {
   "cell_type": "code",
   "execution_count": 4,
   "metadata": {},
   "outputs": [],
   "source": [
    "# Streaming response\n",
    "from typing import Type\n",
    "from shuscribe.schemas.base import BaseOutputSchema\n",
    "from shuscribe.schemas.llm import ThinkingConfig\n",
    "from shuscribe.schemas.streaming import StreamChunk\n",
    "from shuscribe.services.llm.streaming import StreamStatus\n",
    "\n",
    "\n",
    "async def stream(\n",
    "    provider_name: str, \n",
    "    model: str,\n",
    "    messages: list[Message], \n",
    "    response_schema: Type[BaseOutputSchema] | None = None, \n",
    "    max_tokens: int | None = None,\n",
    "    temp: float | None = None,\n",
    "    thinking_config: ThinkingConfig | None = None,\n",
    "    config: GenerationConfig | None = None\n",
    "    ) -> StreamChunk | None:\n",
    "    async with LLMSession.session_scope() as session:\n",
    "        # Create a streaming config\n",
    "        if not config:\n",
    "            config = GenerationConfig(\n",
    "                temperature=temp or 0.7,\n",
    "                response_schema=response_schema if response_schema else None,\n",
    "                max_output_tokens=max_tokens,\n",
    "                thinking_config=thinking_config\n",
    "            )\n",
    "        \n",
    "        print(f\"{model if model else config.model}:\")\n",
    "\n",
    "        async for chunk in session.generate_stream(\n",
    "            messages=messages,\n",
    "            provider_name=provider_name,\n",
    "            model=model,\n",
    "            config=config\n",
    "        ):\n",
    "            print(chunk.text, end=\"\", flush=True)\n",
    "\n",
    "    if chunk:\n",
    "        if chunk.status in (StreamStatus.COMPLETE, StreamStatus.ERROR):\n",
    "            return chunk\n",
    "    else:\n",
    "        return None\n"
   ]
  },
  {
   "cell_type": "code",
   "execution_count": 5,
   "metadata": {},
   "outputs": [
    {
     "data": {
      "text/plain": [
       "[Chapter(title='[Chapter 1] Truck-kun Strikes Again', id=1, content='\\'Fuck,\\' I thought, hunched over my phone in the fading afternoon light. My fingers hovered over the screen as if I could somehow intimidate the numbers into change.\\nMy Gyarados—level 40, carefully trained, survivor of multiple gym battles and approximately eight thousand random Pidgey and Mankey encounters—was down to a sliver of health. Across the battlefield, a level 37 Vulpix stared back with pixels that somehow managed to look smug. It had probably practiced that look in the mirror.\\nI\\'d already lost two good Pokemon this past hour. My box was only down to shitty Pokemon. I couldn\\'t lose another. Not now.\\nThe Pokemon Mansion sprawled across my phone screen in all its 8-bit glory, a maze of broken tiles and forgotten experiments. Outside my dorm window, campus life continued its usual Sunday afternoon rhythm—distant voices, someone practicing guitar badly, and the occasional burst of laughter. None were aware I was one critical hit away from losing weeks of careful training.\\nGyarados had been with me since Route 6. Just a Magikarp then, making the same old investment that everyone knows pays off—except this time, with perma-death rules, each level had felt like holding my breath underwater.\\nI could switch in Charizard—my starter, my ace—but the damn thing was already at the level cap. One more fight and it\\'d be benched until after Blaine. Kadabra might one-shot it with Psychic—if it didn\\'t get bodied first. My Dugtrio was a speed stat with hit points at this point, and Nidoking was still fucked up from that double-battle ambush earlier. Then there was the Growlithe I\\'d caught an hour ago, but sending it in would be straight-up murder.\\nFive options. Five ways to lose a teammate. Five—\\nA Discord notification slid down from the top of my screen. My thumb twitched instinctively to swipe it away, but the message caught my eye before I could dismiss it.\\n```\\nBigDKarp: @everyone SHADOW MEWTWO RAID AT LIBRARY GYM\\nBigDKarp: @EVERYONE 10 MIN WINDOW GET HERE NOW\\n```\\nCurious, I tapped the notification to see what the fuss was all about.\\n```\\n[March 22, 2024]\\nRaidenMain2: Hey, anyone hear about the shadow mewtwo event?\\nProfOaksFavStudent: starts next week right?\\nRaidenMain2: Does anyone want to head downtown for it?\\nMissingNo404: Down, what time does the event start?\\n[March 30, 2024]\\nBigDKarp: @everyone SHADOW MEWTWO RAID AT LIBRARY GYM\\nRaidenMain2: holy shit it\\'s on campus?\\nBigDKarp: @EVERYONE 10 MIN WINDOW GET HERE NOW\\n\\nBigDKarp: @everyone SHADOW MEWTWO AT LIBRARY\\nRaidenMain2: @everyone LETS GOOOOO\\nBigDKarp: TEN MINS LEFT\\nProfOaksFavStudent: @AlexaTheGreat where u at? we need ur Darkrai\\n```\\nI briefly swiped back to the emulator, hesitating over my next move before quickly tapping the menu and saving my state.\\n\\'I’ll deal with this later,\\' I decided. Shadow Mewtwo just sounded too cool and the battle wasn’t going anywhere. The early spring air bit at my face as I burst from the dorm building, nearly colliding with a cluster of freshmen who hadn\\'t learned that campus sidewalks have their own unwritten rules of navigation.\\nThe library stood sentinel across University Avenue. The crosswalk\\'s red hand blinked its warning—a traffic signal I\\'d normally respect. But the street stretched empty in both directions.\\nMy phone buzzed again.\\n```\\nRaidenMain2: @AlexaTheGreat where u at??\\nBigDKarp: 2 min until the raid @everyone HURRY IF YOU WANT SHADOW MEWTWO\\n```\\nMy phone\\'s screen painted my face in blue light as I jogged, the little avatar shuffling across a simplified version of my world—one minute forty-five seconds. The library\\'s Pokestop spun with casual indifference, promising digital treasures that suddenly seemed far less important as a deep mechanical groan vibrated through my bones.\\nA shadow fell across my phone. I looked up—too late, too slow—as steel and chrome filled my vision. Physics asserted itself with elegant simplicity: mass plus velocity equals the end of all your carefully laid plans.\\nMy last thoughts weren\\'t deep or meaningful. Nothing about family, nothing about wasted potential, not even the cosmic irony of dying for a mobile game. Instead, I thought about my Gyarados, frozen in time with that sliver of health, waiting for a command that would never come.\\nThen darkness. Not the dramatic fade-to-black of movies or the peaceful drift of sleep, but a sudden cessation of input, like someone yanked the cartridge out mid-game.\\n-[v.v]-\\nThe darkness didn\\'t last.\\nAwareness returned in fragments, each sensation filtered through amber fluid that pressed against me like thick honey. The world beyond my container was a blur of orange-tinted shadows. I floated, suspended in something that felt thicker than water, almost syrupy against my skin. My lungs should have been burning, demanding air, but they felt eerily still, as if my body had forgotten it needed to breathe.\\nSound reached me in waves, distorted and strange. Everything felt muffled except for the deep vibrations that traveled through the fluid itself, pressing against skin that felt too new, too small, like clothes that had shrunk in the wash. A tremor rippled through my container, and another, each one stronger than the last. Then came a sound that defied description—something between a roar and a thought-given voice, so deep it seemed to resonate in bones I wasn\\'t sure were mine anymore.\\nWhen the container finally gave way, it wasn\\'t gradual. Hairline fractures spiderwebbed across my visible world, transforming the emergency lights into kaleidoscopic fragments. The final crack came sharp and decisive, and suddenly the world was cold air and gravity and sensation that felt too sharp, too real.\\nStrong arms caught me before I could fall—arms that seemed impossibly large, attached to a middle-aged man whose tear-streaked face loomed above me. Everything was wrong, scaled up as if I\\'d somehow shrunk in my moment of unconsciousness. I went to return his embrace instinctively, the way you do when someone is crying and holding you, but the arms that responded to my commands weren\\'t mine. These were delicate things. Pale. Small. Unblemished. Just… wrong.\\n\"Amber,\" the giant middle-aged man choked out, his voice thick with emotion. \"You\\'re alive. You\\'re really alive.\"\\nHe pulled back just enough to shrug off his lab coat with shaking hands, wrapping it around my shoulders with gentle urgency. The fabric draped over me like a tent, still warm from his body and carrying a mix of scents—antiseptic, coffee, and something earthy that spoke of long hours in this underground lab. The simple act of covering me seemed to steady him somehow, as if the familiar motion of caring for a child helped anchor him in this impossible moment.\\nMy attempt at speech emerged as a quiet \"Who...?\" and even that single word felt like a betrayal. The voice wasn\\'t mine—too high, too young, distinctly feminine in ways that sent fresh waves of confusion through my already overwhelmed mind.\\nThe tears falling on my face mixed with residual amber fluid, creating trails of warmth that felt impossibly intimate. The man held me like something precious, something miraculous, and through the blur of liquid and tears, I studied his face. There was something familiar there, something I should recognize, but understanding stayed just out of reach.\\nIn my peripheral vision, something caught my eye.\\nA tail. Purple and massive, sweeping through broken equipment with casual, elegant destruction. Trails of violet energy hung in the air behind it, making the world look unstable, and unfinished. And there, suspended in the chaos of its own liberation, was Mewtwo. Not the 8-bit sprite or 3d render of the modern games, but something raw and primal and terrifyingly real. Its form rippled with power that hadn\\'t quite settled into being, each movement carrying the weight of something that existed outside the natural order.\\nOur eyes met, and primal terror froze me in place. Every Pokemon instinct screamed that eye contact meant a battle was about to start—but reality had its own cruel humor. No menu would slide into view, no convenient mechanics would save me. Just raw existence: me in this too-small body that felt like borrowed clothing, facing down a creature that had transcended from pixels to godhood without bothering to include a user manual.\\nTime stretched between us, neither moving, neither breathing. Something flickered in those violet eyes—recognition? Memory?—before reality came crashing back in the form of a torrent of flames that caught Mewtwo in its side. The legendary Pokemon tumbled through the air, its psychic shield materializing like heat shimmer before steadying.\\nThe moment shattered, and pure survival instinct took over.\\n\"We have to go!\" My borrowed voice cracked with urgency as I tugged at the giant man\\'s lab coat. The pieces suddenly clicked into place like a puzzle I hadn\\'t known I was solving—the liquid tank, the legendary Pokémon wreaking havoc above us, this man\\'s tears of joy. This wasn\\'t just any scientist, and I wasn\\'t in just any facility. The reality of my situation hit me with the force of a truck: I was standing in front of Dr. Fuji himself, wearing his dead daughter\\'s form, while the most powerful Pokémon ever created battled it out.\\nDr. Fuji nodded and wiped his tears, though he kept staring at me with a hint of disbelief.\\nHe scooped me up without hesitation, and suddenly the world viewed from his height made everything more alien. The laboratory was in chaos—emergency lights cutting red swaths through steam clouds, while sparks rained from destroyed equipment like artificial stars. The air itself felt wrong, charged with an electric tension that made my skin prickle and my hair stand on end.\\nThrough the mayhem, I caught glimpses of other tanks like mine, now reduced to modern art installations of shattered glass and spilled amber fluid. A security guard\\'s Arcanine launched another stream of flames, catching Mewtwo mid-hover. For all its legendary status, basic physics still applied—the impact slammed it into reinforced concrete hard enough to crack both. Pain flashed across its features, quickly transforming into something darker, something that promised retribution.\\nFor a moment, I thought we were about to witness exactly why the games classified it as being the world’s strongest pokemon. But instead, it glanced between the Arcanine, the damaged wall, and—briefly—at me.\\nThen, with a pulse of psychic energy that shattered every remaining bit of glass in the room, it blasted upward through the ceiling. Moonlight poured in through the new skylight, illuminating the destruction below. Dr. Fuji\\'s arms tightened around me with sudden urgency, pulling me against his chest and tucking my head under his chin. The world compressed to darkness, heartbeats, and the smell of the amber fluid still clinging to his lab coat.\\nSound painted the picture I couldn\\'t see—the thunderous cascade of falling concrete, the crystalline symphony of shattering glass, something that might have been a support beam groaning its way to failure. Through it all, Dr. Fuji\\'s arms remained steady, though I could feel tremors running through him each time something heavy struck nearby.\\nWhen the crashes finally faded to scattered plinks and the occasional distant rumble, Dr. Fuji\\'s grip loosened. I pulled back, blinking in the strange new light. Moonlight streamed through a jagged hole that had once been a ceiling, painting silver highlights on broken equipment and scattered research.\\nAcross the room, reality had stopped trying to make sense. Alarms wailed in competing frequencies—high-pitched containment breach warnings mixing with the deeper drone of structural failure alerts, creating a discordant symphony that made my teeth ache. Through the cacophony, I watched a partially-formed Kadabra variant suddenly glitch into the half-destroyed lab, its too-many-fingers leaving trails of psychic energy in the air, before disappearing again.\\nA pained grunt drew my attention back to Dr. Fuji. He was hunched forward now, one hand pressed against the wall for support while the other still tried to keep me steady. His clothes had been shredded across the back, and through the tears, I could see angry red welts already darkening to bruises where chunks of ceiling had struck. A particularly nasty gash along his shoulder blade was slowly painting his clothes crimson.\\n\"A-Are you alright?\" The question slipped out in my new voice, high and clear and caring in a way that surprised me.\\nDr. Fuji\\'s grunt of pain pulled me back from my daze. He was already reaching for me again, his arms trembling slightly but determined. Despite the chaos—or perhaps because of it—his focus remained entirely on me as if the legendary Pokémon wreaking havoc above us was merely an inconvenience.\\nWe picked our way across what remained of the laboratory floor, my bare feet finding surprising purchase on debris-scattered tiles. The reinforced door hung askew on its hinges, blown outward by Mewtwo\\'s psychic blast. Beyond it, the scene transformed with jarring suddenness—no more clinical white walls or exposed machinery, just the refined interior of what could have been any wealthy estate. Wood paneling replaced sterile steel and ornate light fixtures cast shadows where monitoring equipment should have been.\\nThe hallway held a handful of scientists in various states of panic, their lab coats looking strangely out of place against the mansion\\'s carefully curated aesthetic. Two security guards tried maintaining order while radioing for backup, their professional demeanor cracking under the weight of what they\\'d just witnessed. Through a doorway, someone hurriedly disconnected a hard drive, hands shaking as they worked. Fragments of conversation floated above the chaos...\\n\"...security breach in the east wing, we need...\"\\n\"...containment field\\'s down in Enhancement Lab Three...\"\\n“...Fuji’s legendary clone…”\\n\"...the evolution acceleration chamber is overloading...\"\\nThe facility\\'s emergency lighting painted everything in harsh red pulses as we made our way through the corridors, but now real flames were beginning to join the artificial warning lights. Smoke curled along the ceiling in lazy ribbons, and I could feel the temperature rising with each step. The lab coat around my shoulders felt less comforting now, its fabric growing warm from more than just body heat. I couldn\\'t stop staring at Dr. Fuji\\'s back, watching crimson slowly seep through his clothes while orange light from growing fires cast dancing shadows around us. Each step seemed to cost him, though he never loosened his grip on my hand.\\n\"Everything will be different now,\" Dr. Fuji said softly, his voice barely carrying over the crackle of flames behind us. Orange light painted the treeline in false sunset, while smoke curled through branches. \"We can fix it all—our family, our life. Everything.\"\\n'),\n",
       " Chapter(title='[Chapter 2] All Aboard!', id=2, content='Sleep wasn\\'t just elusive—it felt dangerous. Each time exhaustion started to drag me under, some part of my brain would jolt awake, terrified that closing these eyes meant losing whatever thread still connected me to myself.\\nThe hotel room\\'s ceiling fan spun lazy circles, each rotation collecting shadows that looked too much like the fractals of psychic energy I\\'d seen during Mewtwo\\'s awakening. That had been real. All of it had been real. The clone tank\\'s fluid still burned in borrowed lungs whenever I breathed too deeply, a sharp chemical taste that belonged in sci-fi stories, not reality. Not supposed to be my reality.\\nI caught another glimpse of mint-green hair on the dark TV screen and had to look away. Ten years old. I was ten years old again, or at least this body was. The wrongness of it sat like lead in my stomach—adult thoughts trapped in a child\\'s form, muscle memory that belonged to someone else entirely. Even my fingerprints felt foreign when I ran them across the scratchy hotel blanket; too small, too smooth, too new.\\nThrough the darkness, I could hear Dr. Fuji\\'s steady breathing from the other bed. The sound made my chest ache. \\nHe\\'d moved heaven, earth, and even created the most powerful Pokemon to bring his daughter back.\\nAnd for what? For someone stupid enough to run out in front of a truck?\\nI was an accident of consciousness in a form that should have failed, never supposed to have lived.\\nEach breath felt stolen. Each heartbeat was a reminder that somewhere in this world, there was a grave with Amber\\'s name on it, marking where this body\\'s original owner rested while I played at being alive in her place.\\nLaughter drifted through the walls from other rooms—probably tourists enjoying their island getaway, planning tomorrow\\'s outings to the volcano or the beach. \\nHow many people visited this island, never knowing about the laboratory hidden beneath their feet? About the clone tanks and the failed experiments and the most powerful Pokemon in existence now tasting its first breath of freedom?\\nThe volcano\\'s silhouette loomed beyond the window, a darker shadow against the night sky. Somewhere out there, Mewtwo was grappling with its own existence, another consciousness that never should have been. But at least it had been made with a purpose—to be the most powerful Pokémon in existence. I was just... an accident. A consciousness that slipped through some crack in reality into a form that should have failed.\\nMemories of my old life flashed before my eyes like someone else\\'s home videos—crystal clear but impossibly distant. Mom\\'s patient smile as I explained why this new Pokemon game was different from the last six. That lazy orange tabby who\\'d earned his Snorlax nickname. The thrill of finally pulling that Charizard VMAX during lockdown, when Pokemon cards became an escape from endless Zoom lectures. That last, stupid battle—Tsunami the Gyarados getting crit twice in the mansion right before...\\nI pressed my palms against my eyes until stars burst behind them. Even that sensation felt wrong—the pressure, the size of my hands, the way the joints bent. Everything was off by degrees so small they shouldn\\'t matter but somehow added up to a symphony of wrongness that made me want to crawl out of this skin.\\nAnd beneath all of it, a deeper terror lurked: Team Rocket. They\\'d lost their prize weapon and their secret lab, but they hadn\\'t lost their reach. \\nThe future splintered in my head—competing versions of what could come next. In the anime, they\\'d eventually capture and control Mewtwo, bending its will to Giovanni\\'s ambitions until it finally escaped. In the games, it would flee to Cerulean Cave, becoming a legend whispered about by trainers. The manga version seemed least likely—Blaine hadn\\'t been involved in this creation. What did I mean for the plot?\\nEach version of the future felt equally possible now, equally real. How could I plan for all the different timelines? And more terrifyingly—what would Team Rocket do if they realized one of their failed experiments was walking around with a head full of meta knowledge? With an adult\\'s understanding of their plans wrapped in a child\\'s vulnerable form?\\nThrough the window, Cinnabar\\'s stars wheeled overhead, indifferent to the impossible thing breathing beneath them. Not a success, not a failure—something entirely new. Something no one, not even God… no, Arceus, himself, had planned for. And tomorrow... tomorrow I\\'d have to wake up and keep pretending. Keep breathing. Keep existing in a form that wasn\\'t mine while carrying memories that didn\\'t belong here.\\nThe fan spun on, its shadows still dancing like psychic fractals, each rotation seeming to ask: who are you really? The person who died chasing a mobile game, or the experiment who stole a second chance? \\n\\\\[v.v]/\\nThe beach slowly filled with passengers, fifteen others in total—a couple of families clutching travel bags, a businessman in a suit that probably cost more than a starter Pokemon, and two trainers who looked like they\\'d stepped out of a contest poster. I stifled another yawn, wiggling my toes in shoes that still felt new. The volcanic sand was oddly warm even this early, with black crystals skating across the beach with each gust of wind.\\nThe businessman checked his watch for the third time in five minutes. One of the kids had fallen asleep against her mother\\'s leg. The contest trainers had given up on looking cool and were now sitting cross-legged in the sand, sharing what looked like a breakfast pastry.\\nSuddenly, the air... shifted. Like the moment before a storm breaks, when everything goes still and electric.\\nThen I heard it.\\nA whistle cut through the dawn—three sharp notes that made everyone freeze. The sound of wings came next, starting as a whisper and building to a rush that seemed to push the very mist aside.\\nThey emerged from the dawn like something out of a dream—eight massive shapes descending in perfect formation. Four Pidgeots on each side, their wingspans casting moving shadows across the beach. A Fearow cut through the morning light on one flank, all sharp edges and deadly grace, while a Noctowl glided silently on the other.\\nHoly shit.\\nHoly actual shit.\\nThose were Pidgeot. Eight real, breathing, absolutely massive Pidgeot, arranged in a perfect V with a Fearow and Noctowl flanking them like feathered fighter escorts. They descended with practiced precision, and I found myself counting pixels that weren\\'t there because some part of my mind was still trying to process this like a game sprite or cartoon. But there was nothing pixelated about them.\\nI\\'d had this dream before—every kid with a Gameboy or TV had. But dreams didn\\'t come with the smell of sea salt and feathers, didn\\'t include the way morning light caught their crests and turned them into living flame. My hands were shaking. These weren\\'t just Pokemon—they were POKEMON. Actually real, actually here, close enough to touch if I wasn\\'t frozen in place trying to remember how breathing worked.\\nThe closest Pidgeot turned its head, preening a feather back into place with the casual grace of something that could probably break the sound barrier before breakfast. When the formerly-sleeping kid stumbled forward, it tilted its head with bird-like curiosity. Just a big, well-trained flying type going about its morning routine. Completely normal. Totally ordinary. Just a Pidgeot, doing Pidgeot things, while my internal monologue alternated between incoherent screaming and \\'don\\'t cry don\\'t cry don\\'t cry.\\'\\nThe trainers landed behind their Pokemon, boots crunching on volcanic sand. The woman moved with the easy grace of someone who\\'d learned to walk on wind, her flight jacket a patchwork of badges I didn\\'t recognize. Her Ampharos prowled between the Pidgeot, tail held high like an airport marshal\\'s wand. The man was all business, his weathered face creased in permanent concentration as his Magneton hovered nearby.\\n\"Morning folks!\" The woman\\'s voice carried easily over the sound of wings settling. \"I\\'m Captain Lin, that\\'s Captain Reed. We\\'ll be your scenic tour to Celadon today.\" She grinned at the businessman\\'s barely concealed wince at the word \\'scenic.\\' \"Don\\'t worry—we\\'ll have you there in time for your meetings. Now, let\\'s get you all sorted.\"\\nThe division happened with practiced efficiency: three sets of passengers and their bags for each group of four Pidgeot, carefully distributed for balance. Lin\\'s Noctowl watched from the side with ancient eyes that seemed to measure each soul that passed, while Reed\\'s Fearow stalked the perimeter like a feathered drill sergeant.\\nI pressed my nails into my palms, using the small pain to ground myself. This was happening. This was real. In about ten minutes, I was going to fly on an actual Pidgeot.\\nLin appeared beside me, her Ampharos’s static making my new hair float slightly. \"First time?\" she asked, grinning at whatever expression was on my face. \"Don\\'t worry—Storm here is gentle as they come.\" She patted the nearest Pidgeot, whose feathers rippled like silk in the morning light. \"Though you might want to take a breath—you\\'re starting to look a bit blue.\"\\nRight. Breathing. That was a thing I should probably keep doing.\\nThe safety briefing washed over me in a blur of buckles and emergency procedures. Lin moved between passengers with the casual grace of someone who\\'d done this a thousand times, her Ampharos trailing behind like an anxious flight attendant, occasionally pushing bags up that weren\\'t properly secured.\\n\"Remember,\" she called out, \"you\\'re riding a Pokemon, not a train. They respond to tension. Relax, and they\\'ll relax.\" Her Noctowl punctuated this with a soft hoot that somehow managed to sound both wise and slightly judgy.\\nThe first step onto Storm\\'s back felt like breaking some unspoken rule of the universe. Feathers shifted beneath my fingers, warm and alive and impossibly strong. I\\'d spent countless hours flying on Pidgeot in games, but nothing had prepared me for the reality of settling between wings that could split clouds.\\n\"Knees soft,\" Lin advised, appearing beside me to check the straps. \"And try not to grab feathers if you get nervous—Storm\\'s understanding, but nobody likes having their hair pulled.\" Her Ampharos demonstrated proper handle-holding with exaggerated care, then scampered back to its special harness near Lin\\'s position.\\nDr. Fuji settled behind me, his presence both steadying and strange. The businessman ended up with a lovey dovy couple on the Pidgeot next to us. The couple flirted constantly while the businessman looked like he wanted to kill himself.\\n\"Clear skies ahead!\" Lin\\'s voice carried over the morning breeze. Her Noctowl lifted off first, silent as a shadow, while Reed\\'s Fearow took point with a cry that scattered sleeping Wingull from the nearby rocks. \"Celadon Express is ready for departure!\"\\nThe takeoff stole my breath, my heart, and possibly several years off my new life. One moment we were earthbound, the next—glory. Storm\\'s wings spread like sails of light, each downbeat a thunderclap of power. The beach fell away, black sand scattering in our wake, and my stomach did something that probably violated several laws of physics.\\nWe climbed through layers of dawn, each wingbeat carrying us higher until the ocean spread out like a mirror below. The sun painted everything in impossible colors—rose gold and amber and colors I didn\\'t have names for. Lin\\'s group formed up on the right, Reed\\'s on the left, their Pidgeot moving with the kind of precision that made my gaming brain want to count frames that didn\\'t exist.\\nAmpharos’s head-bead sparked occasionally, tiny arcs of electricity dancing between it and Magneton’s magnets. The morning air grew thin and cold, but somehow a bubble of warmth surrounded us.\\nSomewhere between one heartbeat and the next, exhaustion finally caught up. The steady rhythm of Storm\\'s wings, the salt-sweet wind, the gentle rise and fall of flight—it was a lullaby written in motion. My head nodded forward, then back, then forward again.\\n\"Sleep if you need to,\" Lin called back, her voice carrying easily despite the wind. \"Storm\\'s got you.\"\\nI tried to protest. Tried to explain that sleep was for people who weren\\'t living through every childhood dream at once. But my body—this new, strange, body—had other ideas. The last thing I remember was Dr. Fuji adjusting my straps, making sure I couldn\\'t slip. Storm\\'s feathers were softer than any pillow, and the wind sang stories of freedom in a language I was finally learning to understand.\\nI slept without dreams. Just the wind, the waves far below, and the steady heartbeat of a Pokemon carrying me toward whatever waited ahead.\\n'),\n",
       " Chapter(title='[Chapter 3] Into the World of (Pocket) Monsters', id=3, content='\"What do you mean you don’t want to wear a dress? You love dresses,\" Dr. Fuji had said three mornings ago, his voice gentle but brooking no argument as he\\'d laid out the powder-blue monstrosity. The words hung between us like a wall, trapping the truth behind teeth that didn\\'t feel like mine. How could I explain that his daughter\\'s preferences hadn\\'t transferred along with her DNA?\\nNow, I stood before a mirror, tugging uselessly at another one of Dr. Fuji\\'s stupid doll dresses. I glanced up at the mirror, seeing a deep frown etched on the girl’s face. Her mint-green hair caught light at impossible angles and her dark green eyes held a wariness that didn\\'t belong on a child\\'s face. Five days in this new world, and I still couldn\\'t reconcile the image before me with my sense of self.\\nI caught Ditto watching me from its perch on the dresser, its amorphous form somehow managing to convey both attention and amusement. \"You try wearing this,\" I muttered, tugging at the dress\\'s hem for the hundredth time. The words had barely left my mouth when Ditto\\'s body rippled with interest. It oozed down from the dresser like spilled honey, its mass pooling briefly on the floor before surging upward.\\nThe transformation caught me off-guard—pink substance flowing, reshaping, solidifying into... into...\\n\"Oh,\" I breathed, turning to face my duplicate. Ditto\\'s version of me stood with perfect posture, making my own awkward stance feel even more obvious. Every detail was uncomfortably accurate, from the mint-green hair color to the power-blue dress.\\n\"You know,\" I said, glancing between us, \"If we\\'re going to be stuck here, you could at least transform into something more practical. Even the girls in these kid\\'s cartoons Dr. Fuji left for us are wearing pants!”\\nThe copied version of me tilted its head in confusion.\\n\"No, look,\" I said, turning to point at the ancient TV where a trainer in sensible hiking gear was scaling a mountain. \"See? Pants. The bottom half.\" I gestured emphatically at the cartoon character\\'s legs, then at my own dress-confined ones. \"You know, for walking? Adventure? Not feeling like a dress-up doll?\"\\nDitto-me tilted its head, brow furrowing in concentration. For a moment, nothing happened. Then the transformation began—but something was wrong. The top half remained a perfect copy of me, but below the waist, the dress melted away into flat, two-dimensional cartoon legs, complete with bold outlines and cel-shaded pants.\\n\"That\\'s not quite what I...\" I started, but the words died in my throat as Ditto tried to take a step. The cartoonish legs, utterly unsuited for three-dimensional movement, immediately gave out. My doppelganger collapsed in a heap, the realistic upper half merging with the animated lower half into a puddle of confused purple goo.\\nA laugh escaped me as I watched the purple mass reform into its natural purple blob shape with a (~_~) face, feeling an unexpected wave of affection for my shapeshifting companion. \\nI couldn\\'t help but marvel at the difference between its current actions and just three days ago.\\nThree days ago, Dr. Fuji gave Ditto clear instructions: \"Protect her.\"\\nBack then, it had been all business—maintaining a careful distance, transforming only when commanded, watching me from corners with an unreadable expression. But yesterday, I\\'d caught it mimicking my movements in the mirror when it thought I wasn\\'t looking, practicing expressions with an almost childlike curiosity before morphing back to neutrality the moment our eyes met. And now here it was, sprawled dramatically on my floor after its enthusiastically misguided attempt at cartoon fashion.\\nI shook my head with a smile underneath as I focused on my only other source of entertainment. \\nI flopped onto the worn couch, its familiar softness reminding me of lazy weekend afternoons from another life.\\n\"Let\\'s see…” I muttered, clicking through channels. The TV itself was ancient by my standards—all curved screen and rabbit-ear antenna—but it worked well enough to pick up local broadcasts. A few clicks through static-filled channels finally landed on what looked like a local news broadcast. The production value wasn\\'t much better than the static—the anchor\\'s desk looked like it was made of painted plywood, and the graphics had that distinctly late-90s PowerPoint feel.\\n\"...and in downtown Celadon, business owners are raising concerns about increasing Grimer populations in the sewage system,\" the anchor was saying, her heavily hairsprayed style completing the retro aesthetic. \"Our field reporter is live at the scene.\"\\nEach channel brought another reminder that this wasn\\'t just a world with Pokemon—it was a world built around them, shaped by their presence in ways both mundane and extraordinary. My thumb froze on the remote as familiar battle stadium architecture filled the screen. Two trainers faced each other across a regulation field, their Pokemon launching attacks that the cameras struggled to track.\\nThe battle itself was both familiar and jarringly different from what I remembered. No health bars floated above the Pokemon\\'s heads, no convenient status indicators blinked warnings. Instead, a Sandslash and Poliwrath clashed in a blur of motion that the dated camera technology struggled to capture, leaving ghostly afterimages on the curved screen.\\nThe commentators\\' excited chatter filled our small apartment: \"...and Wright’s Sandslash shows remarkable agility, folks! But wait- oh! Poliwrath\\'s Water Gun catches it mid-roll!\"\\nI leaned forward, unconsciously mimicking the tensed posture I\\'d held during countless gaming sessions. But this wasn\\'t a matter of pressing the right buttons at the right time. The Sandslash\\'s trainer shouted something lost in the crowd\\'s roar, and her Pokemon responded with a desperate burrow into the arena floor—a move that would have taken two turns in the games but happened here in one fluid motion.\\n\"Did you ever imagine battles would be like this?\" I asked Ditto, who had inched closer to the screen, its amorphous form rippling with each impact shown. \"No turn-based combat, no convenient pauses to think through strategy. Just…”\\nI paused as Ditto tilted its head in confusion.\\nA wry smile formed on my lips as I smacked my head. “Of course, this would be the normal here.”\\nI refocused my attention on the TV.\\nThe Poliwrath\\'s trainer, a weathered man who looked nothing like the pixel-perfect gym leaders I remembered, was already calling out his next command. His Pokemon\\'s Water Gun carved channels in the arena floor, forcing the Sandslash to surface or drown. The camera zoomed in on the ground type\\'s emergence, catching the moment its claws broke through the earth at an unexpected angle, spraying sand into its opponent\\'s eyes.\\nDitto made a sound that might have been appreciation, transforming briefly into a miniature version of the Sandslash before melting back to its natural state, as if testing how that movement would feel.\\nThe broadcast cut to what passed for a post-match analysis—two men wedged behind a desk overlooking the battlefield wearing huge headsets and speaking into a massive black speaker like an old sports commentary broadcast.\\nI found myself nodding along to their commentary, memories of countless battle showdown simulators suddenly cast in a new light. \\nI\\'d never been a sports person in my old life—couldn\\'t have cared less about football stats or basketball plays. But this was different. This was Pokemon battling—real Pokemon battling, not the simplified turn-based system I\\'d known from games. \\nMy legs started swinging, the toes of my feet barely scraping the ground, heels drumming a restless beat against the couch base. The worn fabric that had felt so comfortably familiar minutes ago now pressed awkwardly against the backs of my knees, a constant reminder that this body was sized all wrong for casual lounging.\\nI tried tucking my legs under me instead, but that just made the couch feel deeper, like sitting in an oversized dollhouse. Even as my eyes stayed locked on the battle channel, this body hummed with a restless energy I\\'d never known in my previous life.\\nWith a sigh, I slid off the couch, leaving the 2 men’s battle analysis playing in the background. The feeling was familiar by now—this wild, electric restlessness that seemed to buzz through Amber\\'s limbs.\\nI got on my back and started to do sit-ups. Ditto, familiar with this particular ritual by now, flowed across the carpet to assume a beside me.\\n\"One... two...\" I counted out loud. Ditto bobbed up and down, as if it were copying my movements.\\nI briefly paused my set to laugh. Did Ditto even have muscle to train?\\nI quickly continued, attempting to exhaust all my tireless energy \"Seventeen... eighteen...\"\\n25 sit-ups. 10 push-ups. 25 squats. And a 0 km run. My body hummed with energy even after completing more exercise than I\\'d managed in any given week of my previous life.\\nI caught my reflection on the black TV screen during a transition and had to laugh at the absurdity of it all. Here I was, wearing a frilly dress that belonged in a Victorian dollhouse, performing calisthenics.\\nAfter 1 round to failure, I went again. And again. Until I had tapped out at 100 sit-ups. 20 push-ups. 100 squats. And a 0 km run. Collapsed to the ground. Everywhere felt sore, especially my jelly-like arms. I still had a long way to go to achieve baldness.\\nAs I lay spread-eagled on the floor, I turned my head to look at Ditto, who had collapsed beside me with a slightly woozy (~.~), though its lack of actual exhaustion somehow made the gesture more endearing. \\nThree days. Three days of watching battles I couldn\\'t participate in, learning about a world I couldn\\'t explore, sitting in an apartment that felt more like a gilded cage with each passing hour. If it were me in my past life, that would’ve been the perfect life.\\nI rolled onto my side and supported my head with my arm. I watched Ditto appear to doze off. I guess that really did tire it out. \\nA plan that had been forming in my mind all morning suddenly crystallized.\\n\"Hey Ditto,\" I said, pushing myself up on one elbow despite my protesting muscles, \"can you keep a secret?\"\\nDitto straightened its form, instantly recovering from its “fatigue,” and tilted its head.\\n\\\\[^.^]/\\nA few days later, I watched from behind a curtain as Dr. Fuji hurried down the street, his white lab coat catching the morning light like a beacon. Fifteen minutes crept by as I counted his steps, then another five to be absolutely certain. Only then did I dare to move.\\nThe ancient backpack—a relic of Amber\\'s past life—sat awkwardly on my shoulders, its straps adjusted as tight as they would go. Inside was food for me and Ditto and a spare set of keys. Not exactly survival gear, but it would have to do. The shiny black patent leather shoes were already starting to pinch.\\n\"Wait,\" I murmured to Ditto, holding out its Pokeball. \"I don\\'t even know the rules about Pokemon in the city. Better stay in the ball until we\\'re clear, okay?\" It dissolved into red light without protest, though I could have sworn it rolled its eyes first. For all I knew, there could be restrictions about unleashed Pokemon, or licenses needed, or who knows what else.\\nThe apartment door seemed impossibly loud as I eased it open, each creak a thunderous betrayal of my escape attempt. Down four flights of stairs on tiptoes, my shoes barely touching each step. At the building\\'s entrance, I paused, heart thundering against my ribs like a trapped Pidgey.\\nI reached up on my tiptoes and opened the door to my real first steps into Celadon City.\\nThe morning streets made my earlier caution feel absurd. Pokemon were everywhere, woven into the fabric of city life as naturally as pigeons in my old world—a Meowth sprawled across a windowsill like a furry king surveying its domain, Pidgey squabbling over something shiny in the gutters, even a Growlithe padding importantly beside a police officer, its badge-shaped collar catching the sun.\\nMy fingers relaxed around Ditto\\'s minimized ball, feeling sheepish. Red light flashed as I released it, and Ditto materialized with what I swore was an expression of mild amusement. Without prompting, it flowed up my arm and settled across my shoulders like a living scarf, its weight oddly comforting against my neck.\\nA real Pokemon city sprawled before me. Where my mind expected neat gridlines of pixels and predictable paths, Real Celadon flowed with organic chaos. Streets twisted between buildings that defied the simple up-down geography of the games, their shadows painting patterns that no sprite artist could have conceived.\\nThe morning traffic moved with its own peculiar rhythm. Bicycles dominated the streets, weaving between the occasional car that crawled along like a rare and cautious beast. A pair of Machoke guided a floating platform of construction materials through the air with the casual confidence of everyday laborers, while a Pidgey postal service worker soared overhead, mailbag strapped securely to its chest. The sidewalks bustled with commuters, many with partner Pokemon trotting beside them or perched on shoulders—though none quite as blobby as my own \\'scarf.\\'\\nI made my way to what looked like a transit stop—a narrow concrete building standing alone on its small plot, supported by thick columns that lifted the train tracks overhead. Steep metal stairs zigzagged up one side, their railings worn smooth from countless hands.\\nInside, a row of ticket booths and turnstiles stretched along one wall. A machop, meowth, and human staffed the booths—the Machop’s stubby fingers surprising deft at handling coins while the Meowth’s whiskers twitched at every clink of currency.\\nBut what caught my attention was the city map mounted between the booths and turnstiles. The bottom half was just low enough for me to study properly.\\nI traced routes with a finger, trying to ignore the small, but steady stream of commuters flowing around me. Unlike the neat grid of the games, real Celadon sprawled in every direction, districts bleeding into each other in normal, city-like ways.\\nI found 2 of the major landmarks of Celadon fairly easily.\\nThe Gym was clearly marked and not that far from here. The Game Corner on the other hand looked to be at least 20 blocks away.\\nI had to step back and squint my eyes to find the Department Store and Game Corner somewhere further north. \\nI glanced back at the toll booths and sighed—should have thought about the money problem as well. I definitely needed money to get there.\\nI closely examined the route I had to take before marching out of the building to start my first Pokemon adventure. Perhaps I’d earn my first gym badge out of it.\\nOnwards to the Celadon Gym!\\n'),\n",
       " Chapter(title='[Chapter 4] Achievement Unlocked! First Battle!', id=4, content='I found myself at the edge of a sprawling park, staring at a wooden sign that pointed toward \"Celadon Gym Outer Gardens.\" Ditto shifted against my neck, its weight familiar now after our morning\\'s city walk.\\nThe gardens spread out before us, though they looked more like a public park than an actual garden. A patchwork of dirt and grass stretched across the grounds, with morning light catching the dew that still clung to the few spots untrampled by feet and attacks.\\nA battle between two young trainers caught my attention—a Doduo facing off against a Bellsprout on worn dirt. The Doduo actually had a clear advantage whenever it attacked—its attacks super effective when they connected—but its heads seemed more interested in arguing with each other than listening to commands. \\nIts trainer shouted \"Focus!\" which, ironically, only made both heads turn to stare at him instead of dodging the incoming Vine Whip.\\nThe Doduo trainer seemed ready to tear his hair out.\\nI settled against a tree trunk, oddly captivated. Ditto\\'s weight shifted, stretching slightly as if also trying to get a better view. The battle meandered on, punctuated by moments of accidental competence—the Doduo managed a super effective peck, ending the battle and knocking out the Bellsprout.\\nThe boy punched the air in victory while his opponent trudged over, counting out crumpled bills with the particular slowness of someone hoping the money might multiply if they took long enough.\\nI stood and found myself drifting between battles after that, unable to just glance and move on.\\nA Pidgey and Spearow whose battle climbed into the air. Two trainers coached their Pokemon through a practice match, stopping occasionally to discuss technique. An intense face-off between a Muk and a Poliwhirl that drew a small crowd.\\nThe sun climbed higher and then began to fall. My stomach growled—and we briefly stopped for lunch. Ditto stayed quiet through it all, but I felt its subtle reactions—a slight tightening when attacks came too close, a gentle relaxation during the lulls between matches.\\n\"Looking for a battle?\"\\nThe voice pulled me out of my battle-watching trance. A boy who couldn\\'t have been more than ten years old stood before me, all elbows and knees and boundless confidence. His blue cap sat crooked on his head, and a Pokeball bounced between his hands with the kind of nervous energy that suggested he hadn\\'t quite mastered the casual spinning trick he was attempting.\\n\"Of course!\" The words burst out the moment we locked eyes. It felt natural, automatic—like muscle memory from a thousand battles fought through pixels and button presses.\\nDitto, who had been contentedly draped around my neck like a living scarf, perked up at my enthusiasm. Before I could second-guess myself, it had already slid down to the ground, bouncing slightly with an eagerness that made me wonder if it had been hoping for this.\\nThe boy\\'s face lit up. He reached into his pocket and pulled out a few coins. \"Cool! Three hundred pokedollars?\"\\nI flinched at the number before remembering that pokedollars were closer to yen than dollars—this was more like three bucks than three hundred. Still, I frowned as I instinctively reached for pockets where I would have had some change, but remembered I was wearing a dress when I just felt smooth fabric.\\nThe boy\\'s smile turned sharp at my hesitation. \"Unless you\\'re scaaaared?\" He drew out the last word like stretching taffy, sweet with mockery. \\nFifteen years of Pokemon experience bristled at his tone. I\\'d bred perfect IVs, chained shinies, climbed to Master rank—and now a tiny kid... well, technically I was about the same age as him now, but that wasn\\'t the point. I looked down at Ditto, who met my gaze with unwavering confidence.\\nThis wasn\\'t a game. I had no idea if Ditto\\'s transformations worked the same way—if most stats and moves were copied. But, looking at its eager wobble, I felt something settle in my chest. Dr. Fuji had trusted this Ditto to guard his most precious creation, Ambertwo. If it was good enough for the scientist who created Mewtwo, it was good enough for a street battle.\\n\\'I\\'ve been playing Pokemon for longer than you’ve been alive\\' I thought, a familiar competitive spark igniting. ‘There’s no way I can lose to a brat like you.’\\n\"Deal,\" I said, forcing steel into my voice. I only had to figure out the money situation if we lost.\\n\"Sweet!\" The boy backed up, creating space for our impromptu arena. A few nearby trainers paused their own activities, scenting the possibility of entertainment.\\n\"Name\\'s Joey,\" he called out, flicking his Pokeball open with a flourish that would have been impressive if he hadn\\'t nearly dropped it. \"Try not to cry when you lose!\"\\nThe ball flew up, a flash of red light materializing into a Rattata. \"Rat-TAT!\" It hissed with quiet ferocity.\\nI squared my shoulders, channeling confidence I didn\\'t quite feel in a Ditto. \"I could say the same to you.\"\\nJoey’s grin widened. Without warning, he thrust his arm forward. \"Go! Rattata! Tackle!\"\\n\"What the—Hey! When did we start?\" I shouted, watching Ditto barely slide to the side as Rattata barreled past. My heart hammered against my ribs—not from fear, but from indignation. No countdown, no proper start, just straight into attacks.\\nJoey’s grin turned smug. \"You said you were ready, didn\\'t you? Rattata! Keep going! Keep up the pressure!\"\\n\\'Right,\\' I thought, watching Rattata wheel around for another pass. \\'One of those people.\\' The kind who thought rules were for other people and basic courtesy was optional. The kind who\\'d cut in line at a coffee shop and then complain about the service. The kind who desperately needed someone to knock them down a peg or two, preferably in front of an audience.\\n\"Ditto, dodge and transform!\"\\nDitto weaved away from another tackle, but instead of transforming, it turned its face toward me with an expression that could only be described as confusion. The sight was so unexpected that for a moment, I forgot we were in the middle of a battle.\\n\"Ditto, transform!\" I tried again, my voice climbing an octave higher than I\\'d have preferred. \\nJoey\\'s laughter cut through the air, sharp and mean in that particular way only pre-teens could manage. \"Haha! A Pokemon that doesn\\'t even know how to fight? What kind of weird blob did you catch? Rattata! Finish this loser up!\"\\n\"Ditto! Come on!\" The words came out more desperate than I\\'d intended. \"Transform into Rattata and fight back!\"\\nAnd then—like that moment when you finally explain something the right way to someone who\\'s been struggling—understanding flickered across Ditto\\'s amorphous features. Its body shimmered, stretched, and suddenly there were two Rattata on the field. \"Rat-TAT!\" came Ditto\\'s perfect mimicry of its opponent\\'s cry.\\nJoey\\'s mouth fell open, his previous bravado vanishing in an instant. \"What the—What did—?\" The words tumbled out in a shocked stutter. Even his Rattata took a step back, whiskers twitching in confusion.\\nI caught fragments of whispers from our impromptu audience: \"Did you see—\" \"What kind of—\" “I think I read about it in—”\\nI paused, the sudden attention prickling against my skin. A half-remembered theory floated through my mind—something about Ditto being failed clones of Mew—and I had to physically stop myself from slapping my forehead. Here I was, Clone-Amber, technically-daughter of the man who created Mewtwo, casually revealing what might be another of his classified experiments in a public park. If there was a guidebook for \"How to Not Draw Attention to Your Secret Identity,\" I was probably breaking every chapter.\\n\\'Too late to worry about that now.\\' I turned back to face my opponent, who was staring at Ditto with the wide-eyed fascination of someone who\\'d just watched their understanding of Pokemon get turned inside out.\\n\"Tail Whip!\" I called out, immediately tense about my choice. It was pure muscle memory—fifteen years of Pokemon battles where status moves were the foundation of any decent strategy. In the games, it had been simple math: lower defense, increase damage output throughout the battle, victory. But now, watching Ditto face down a very real Rattata with very real teeth, I found myself questioning years of virtual combat experience. Would a tail swish actually make physical attacks hurt more here? Or had I just commanded my shapeshifting Pokemon to perform the equivalent of an intimidating dance move?\\nDitto spun with a fluid grace that caught me off-guard. Joey’s Rattata tracked the motion, whiskers twitching rapidly, and when it settled back into its fighting stance, its movements carried a new hesitation.\\n\\'Huh,\\' I thought, watching the subtle shift in the Rattata\\'s body language. \\'So that\\'s what a status move looks like in real life.\\'\\n\"Ha!\" Joey\\'s voice cracked with false bravado. \"Wasting time with fancy twirls? Rattata! Keep tackling! Full force! You can’t lose to a copy!\"\\n\"Perfect! Ditto, dodge and counter with Tackle!\"\\nDitto sidestepped the charging Rattata with the same fluid grace it had shown in its tail movement. It made me wonder if Dr. Fuji had spent some time combat-training it.\\nThe original Rattata overextended, its eagerness working against it, and Ditto\\'s counter-attack landed with precise timing. The impact sent Joey\\'s Pokemon tumbling back, its previous confidence visibly shaken.\\nI felt my confidence growing. This wasn\\'t just button inputs and damage calculations—Ditto wasn\\'t just copying Rattata\\'s form, it was moving with a precision that spoke of experience. Each dodge was efficient, each attack perfectly timed.\\n\"Stop running away!\" Joey\\'s voice cracked. \"Quick Attack! Don\\'t let it dodge!\"\\nHis Rattata blurred forward—faster than eyes could track. Pure instinct made me shout, \"Copy it! Meet it head-on!\"\\nThe collision came with a sharp crack. \"RATTA!\" Both Pokemon cried out in unison. Joey\\'s Rattata went sprawling, while Ditto\\'s form briefly rippled at the impact before stabilizing.\\nJoey\\'s composure cracked entirely. \"Keep attacking! Don\\'t stop until you hit it!\"\\nHis Rattata launched into a frenzy of attacks, each wilder than the last. But Ditto moved like water, each dodge flowing into the next, letting Joey\\'s Pokemon exhaust itself against empty air. It was the difference between button-mashing and actual technique—and Ditto had years of the latter programmed into whatever Dr. Fuji had done to it.\\n\"Stop! Moving!\" Joey\\'s commands devolved into frustrated shouts, each one making his Rattata\\'s attacks wilder. The poor Pokemon\\'s movements were becoming ragged, each lunge leaving it more exposed than the last.\\nI watched the rhythm of their desperation, waiting. One particularly aggressive tackle left Joey\\'s Rattata off-balance, its tail swinging wide to compensate. \"Now, Ditto! Quick Attack!\"\\nThe counter was devastating in its simplicity—a clean strike that sent Joey\\'s Rattata tumbling across the grass. When it struggled up, its legs trembled with exhaustion.\\n\"Come on!\" Joey\\'s voice cracked. \"You can\\'t lose to some—some weird copy!\"\\nI almost felt bad for them. Almost. \"One more time, Ditto!\"\\nThe final Quick Attack landed with surgical precision. \"Rat...ta...\" Joey\\'s Rattata slid to a stop at his feet, managed one defiant attempt to stand, and then collapsed with the classic swirls in its eyes that I\\'d only ever seen in the anime.\\nThe scattered applause from our audience felt wrong somehow—too much attention for what was supposed to be a simple amateur battle. Probably because of Ditto.\\nJoey stared at his fallen Rattata for a long moment, his earlier swagger evaporating like morning dew. For a second, he looked exactly like what he was—a kid. Then his face scrunched up, bottom lip quivering dangerously.\\n\\'Oh no,\\' I thought, panic rising. I\\'d prepared for Pokemon battles and type matchups, but dealing with a crying child hadn\\'t been part of any game guide I\\'d ever read.\\nBut Joey surprised me. He took a deep breath, squared his shoulders, and stepped forward. He dug into his pocket and pulled out the coins, holding them out with the stiff formality of someone trying very hard to pretend this didn\\'t hurt.\\n\"Fair\\'s fair,\" he mumbled, gaze fixed somewhere around my left shoulder. \"You won.\"\\nI stared at the coins, my earlier triumph mixing with an unexpected twinge of guilt. This wasn\\'t some NPC handing over programmed currency—this was probably the kid\\'s entire allowance. But... I was broke too.\\n\"Thanks,\" I said quietly, accepting the money. \"It was a good battle.\" The words felt a bit inadequate, but they were true enough.\\nI tucked the coins deep into my backpack, trying not to think too hard about winning my first real Pokemon currency through what basically amounted to hustling a kid. Joey had already trudged back to his rattata, nursing it with a potion. \\n‘A good kid at heart,’ I thought as I watched him care for his fainted pokemon.\\nDitto slithered back up to my neck, humming with what felt like both satisfaction and concern. \"Nice work,\" I whispered, giving it a quick pat while scanning the dispersing crowd. Most had already turned away, but a few were still muttering among themselves, shooting curious glances in our direction.\\n'),\n",
       " Chapter(title='[Chapter 5] A Perfectly Normal Gym Session', id=5, content='The afternoon sun had begun its descent, casting shadows in the opposite direction through the ginkgo trees that lined the path ahead. Their fan-shaped leaves caught the light like tiny golden coins, creating a dappled pathway that seemed to lead straight to... my steps slowed as the actual gym building came into view.\\nThe building ahead grew more imposing with each step, glass and steel rising up behind the ancient trees in a way that should have felt jarring but somehow worked. Like the games evolving from pixel art to modern graphics, there was something satisfying about the progression from natural to modern, from the Ginkgo arcade to the sleek facility beyond.\\nThe park grounds unfolded in carefully planned waves of green and color. Grass and dirt gave way to raised beds where Oddish-shaped topiaries stood guard over a stunning array of irises and wisteria, their petals trembling in the afternoon breeze. A small pond reflected the late sunlight, its surface occasionally broken by what could have been either decorative Magikarp or particularly playful Goldeen.\\nA lone figure caught my eye, breaking the perfect symmetry of the scene. An elderly man sat on a bench between two trees, his eyes nearly closed but somehow still managing to track my movement. As our gazes met, his face split into a grin that belonged in a different kind of game entirely, the kind that little girls should avoid at all costs.\\nDitto tightened slightly around my neck, a silent agreement that perhaps we should speed up our stately progression down Ginkgo Tree Ave. The trees’ shadows suddenly felt less majestic and more like convenient hiding spots for things that smiled too widely.\\n‘Oookay then,\\' I thought, picking up my pace while trying to look like I absolutely belonged here and was not at all creeped out by the local bench cryptid. \\'Time to see what\\'s behind door number one.\\'\\nThe automatic doors whispered open with blessed modernity, trading filtered sunlight for fluorescent clarity and the weight of ancient trees for climate-controlled certainty. My relief lasted exactly as long as it took to read the price board mounted on the sleek reception desk.\\n```\\nAce Challenge Fee: ₽100,000\\nLeague Challenge Fee: ₽10,000\\nLeague Spectator Day Pass: ₽10,000\\nGym Challenge Fee: ₽5,000+\\nTraining Facilities Day Pass: ₽4,000\\n```\\nThe coins in my bag might as well have been pocket lint. I did some quick mental math. The total was somewhere between \\'adorably insufficient\\' and \\'why even bother counting.\\'\\nThe doors whispered open again as I retreated, and the ginkgo path garden stretched before me once more, though now it felt less like a cathedral and more like a very scenic route to nowhere. Clusters of late-blooming irises lined the path, their purple heads nodding in silent sympathy.\\nI drifted away from the gym\\'s entrance, deliberately choosing a direction that would avoid the creepy bench-dweller.  I let my feet carry me wherever they wanted along the winding garden paths, past bursts of wisteria that draped overhead like purple rain. A breeze stirred the ginkgo leaves, sending a fresh shower of golden fans spiraling down around me. One landed in my hair, and Ditto helpfully brushed it aside for me.\\n\"I don\\'t suppose you know any get-rich-quick schemes for the Pokemon world?\" I murmured to my companion. The slight ripple against my neck felt like the Pokemon equivalent of a shrug. \"Yeah, didn\\'t think so.\"\\nMy path meandered away from the gym and its pristine gardens back to the regular grass and dirt training fields where battles had wound down for the day, then back to other sections of garden, though not as maintained as the ones near the gym. \\nOut of the corner of my eye, I spotted a neat little greenhouse, its glass panels catching the sunset in ways that made it look almost molten. Azaleas clustered around its base, their fading blooms still adding splashes of color to the approaching evening. I didn\\'t know where I was, but something about its warm glow drew me closer.\\nThe greenhouse door handle was too high for comfortable reach, requiring an awkward stretch that reminded me yet again of this body\\'s limitations. \\nIt scraped open with a sound that felt too loud in the quiet evening air, releasing a wave of warm, humid air that carried the rich scent of earth and growing things. I hesitated for a moment, one foot over the threshold, caught between the fading daylight behind and the green-tinted shadows ahead, but ultimately stepped inside.\\nA path wound between beds of ferns and clusters of what looked suspiciously like the berries I\\'d spent countless hours farming in various games. The reality was messier, less orderly than their pixel versions. Leaves overlapped and intertwined, creating patches of shadow that seemed to shift and move in ways that...\\nI froze. One of the shadows was moving.\\nA Gloom waddled out from behind a large pot, regarding us with an expression that managed to be both melancholy and curious at the same time. It was smaller than I\\'d expected, barely coming up to my body\\'s waist, but somehow its presence filled the narrow path between the plants. Neither of us moved for a long moment, caught in a standoff that felt like those tense seconds before a wild Pokemon battle would start in the games.\\nExcept no battle music began. No options appeared. The Gloom just... blinked at us, then yawned, displaying an impressive set of teeth that the games had definitely never rendered in such detail.\\n\"Um, hi?\" I offered, my voice coming out in Amber\\'s higher pitch. The word hung in the humid air between us like another drop of condensation.\\nThe Gloom considered this for a moment, then made a sound somewhere between a sigh and a gurgle. It was probably the most accurate representation of its name I\\'d ever heard. Before I could decide if this was a good sign or not, I felt Ditto begin to slide down my arm.\\n\"Wait, what are you—\" I started, but Ditto had already pooled on the ground and was beginning to reshape itself. I watched, fascinated despite my nerves, as it quickly twisted and grew until a second Gloom stood before me, matching the first down to the slightly droopy flower on its head.\\nThe original Gloom perked up immediately, its perpetually sad expression lifting into something approaching delight. It tottered forward, circling Ditto-Gloom with obvious interest. Ditto, for its part, seemed equally fascinated, mimicking the other Pokemon\\'s movements in a sort of impromptu dance.\\nI quickly glanced around the greenhouse, searching for any witnesses to Ditto\\'s transformation. Nothing but plants and condensation-streaked glass. A relieved sigh escaped me—the last thing I needed was more attention drawn to me.\\nA beam of late sunlight cut through the glass above, catching the moisture in the air and creating a rainbow that seemed to dance between the leaves. Gloom and Ditto Gloom happily danced together in the sun, the warm rays of light invigorating them both.\\n“Hey!”\\nA sudden shout broke the peacefulness and scared Gloom into hiding behind a shadow.\\nI whipped my head around, Amber\\'s shoulder-length hair swinging with the motion. A girl stood in the doorway, her silhouette sharp against the amber light of sunset. Her purple hair was pulled back in a neat ponytail, accentuating the clean lines of her Celadon Gym uniform—a forest green kimono-style top with darker trim that caught the dying light. The asymmetrical closure and embroidered rainbow badge on her chest marked her as part of the Celadon gym. A Bellsprout swayed beside her, its vine-like neck moving with an alien grace.\\n\"What are you doing in here?\" She couldn\\'t have been more than fifteen, but her voice carried the weight of practiced authority. The kind that came from memorizing rules and desperately wanting to prove you could enforce them. The Bellsprout\\'s head bobbed in a rhythmic counterpoint to her words.\\n\"I...\" The explanation died somewhere between my brain and my mouth. The humid air felt heavier suddenly, pressing down with the weight of being caught for... caught for what exactly? Watching two Pokemon play? The absurdity of it almost made me laugh, but something in her stance suggested that might not be the wisest response.\\nThe girl stepped forward, her gym uniform crisp despite the greenhouse humidity. \"This is a restricted area,\" she continued, eyes narrowing as she looked between me and the remaining Gloom. Then she paused, something clicking behind her eyes. \"Wait. That\\'s not one of our Gloom, is it?\"\\nAs if betrayed by the very words, Ditto\\'s perfect Gloom form wavered, a ripple of pink breaking through the illusion like a blush spreading across someone\\'s cheeks. The real Gloom, still half-hidden in shadow, made a sound somewhere between disappointment and embarrassment.\\nThe gym trainer\\'s eyes widened, all pretense of authority momentarily forgotten. \"What... what kind of Pokémon is that?\" She took half a step forward, then caught herself. She shook her head, visibly forcing herself back into her official role, though her eyes kept darting to Ditto\\'s now pink form with poorly concealed fascination.\\n\"There are signs everywhere saying \\'Do Not Enter\\' and \\'Staff Only,\\'\" she said, gesturing vaguely behind her, though her stern tone had lost its edge. Then her eyes tracked down to my height, really seeing me for the first time, and something in her expression softened.\\n\"I\\'m sorry,\" I managed, the words coming out smaller than intended. \"We were just...\" Just what? Playing? Exploring? Breaking and entering? None of those explanations seemed likely to help our case.\\nThe girl\\'s expression shifted, authority melting into something closer to concern. \"Where are your parents?\" she asked, her voice gentler now. The Bellsprout beside her swayed less aggressively, its head tilting in curiosity.\\n\\'Parents.\\' The word hit like a punch to the gut. In my head, I was old enough that the question felt absurd, but the reflection in the greenhouse glass told a different story. A small girl with shoulder-length hair, looking very much like she should, in fact, have a parent nearby.\\n\"My father\\'s...\" I started, then stopped. What could I say? \\'My father\\'s a genetics researcher who thinks I\\'m his resurrected daughter because technically I am, just with a bonus hitchhiking consciousness from another dimension, and left me in an apartment alone with instructions not to leave but I left anyway because I wanted to explore this brand new world\\'? Even in a world with Pokemon, that felt like a stretch.\\nThe girl sighed, absently adjusting her purple ponytail. \"Listen,\" she said, \"I didn\\'t mean to scare you. Just... if you see a sign that says \\'Do Not Enter,\\' please don\\'t enter, okay? This is a restricted area. These Pokemon aren\\'t used to visitors.\"\\nI nodded slowly while backing away, motioning for Ditto to follow. Internally, I was screaming at myself. How could I have just walked into a restricted area?\\nThe greenhouse door felt miles away, my short legs taking what seemed like an eternity to cross the distance. The handle itself posed a regular challenge—too high for comfortable reach. I managed to push it open with a grunt, cool evening air rushing in to break the greenhouse\\'s humid spell.\\nIt wasn\\'t until we were several steps away that I finally looked up and saw it – the \\'RESTRICTED - DO NOT ENTER\\' sign, mounted well above child-height on the greenhouse wall. I groaned internally. Of course, it was there. Of course, I\\'d managed to miss it.\\nThe trees cast longer shadows now, their leaves turning from gold to deep amber in the setting sun. I shuffled away from the greenhouse, trying to maintain some dignity while essentially fleeing the scene of my latest misadventure. Ditto kept pace beside me, its amorphous form somehow managing to convey both sympathy and mild judgment.\\n\"Ah-CHOO!\"\\nThe sound barely registered before something slammed into me from behind. The world tilted, and suddenly I was studying the leaves from ground level, my back pressed against the cold stone path. Through watering eyes, I caught a glimpse of someone scrambling to collect a fallen Pokemon—an Oddish, its leafy sprouts drooping and wilted, round body curled defensively, and its red eyes swirling from the fall.\\n\"S-sorry!\" came a strangled voice, followed by another explosive sneeze. The girl—maybe fourteen or fifteen—only glanced at me for a moment before she hurriedly gathered up her unconscious Pokemon. Her face was flushed, eyes red and running, and she vanished around a corner before I could even push myself to a sitting position.\\nDitto oozed closer, helping me up with a concerned ripple through its body. I brushed dirt from my dress, wincing at the brown stains that would definitely require an explanation later.\\n\"Time to go home,\" I sighed to Ditto, though \\'home\\' still felt like the wrong word for Dr. Fuji\\'s apartment. “Today’s been a fruitfully long day of adventure.”\\n'),\n",
       " Chapter(title='[Chapter 6] Scientist Fuji', id=6, content='The photo album barely fit on the fold-out card table, its leather-bound elegance a stark contrast to the hastily assembled furniture around it. Dawn painted thin strips of light through the apartment\\'s single window, the shadows of Celadon\\'s towering apartments creating a striped pattern across the worn carpet.\\nFuji turned another page with practiced care, the album\\'s weight making the card table wobble. Each photograph was a window into a past that felt increasingly like someone else\\'s life—birthday parties, beach trips, family dinners in a house that no longer belonged to him. His thumb traced the edge of a particular image: Amber at seven, twirling in a light blue sundress that made her look like a piece of sky brought down to earth. Her mother had sewn it herself, spending weeks getting the pleats just right.\\n\"Perfect,\" he whispered, carefully removing the photo. The apartment\\'s thin walls carried the sound of his chair scraping back, a neighbor\\'s Meowth yowling in protest at the noise. Three steps took him across the narrow hallway to Amber\\'s room—no longer a museum of memories, but a blank canvas of rental beige, hastily decorated with the few family portraits he\\'d managed to save.\\nHe paused at her door, today\\'s chosen dress draped over his arm. An exact replica of the one in the photograph, down to the last stitch of white trim. He hung the dress carefully on the doorknob, adjusting it three times before he was satisfied.\\nThe kitchenette felt like a dollhouse version of their old one, everything scaled down and simplified. His wedding ring clinked against the cheap aluminum pan as he reached for it, the sound sharp in the morning silence. She had always insisted on making breakfast herself—said it wasn\\'t proper to start the day without a homemade meal. Now he performed a cramped imitation of their old life, careful not to bump his elbows against the narrow counters as he cracked eggs into the pan.\\nThree plates, three sets of chopsticks, three glasses of juice, all arranged on a table meant for one. The third setting sat like a promise at the empty end of the tiny table, waiting.\\nHe was nearly done when he heard movement from Amber\\'s room. His hands stilled on the last plate, listening for... something. A sign. A word. Anything that might tell him if today would be different. But there was only the soft padding of feet and the quiet click of a door.\\nBreakfast passed in silence. Questions died unasked in the space between them, their knees almost touching under the small table. He watched her pick at her food, noted how she held her chopsticks—all wrong, nothing like before—and added it to his mental list of differences to fix later.\\n\"Go get dressed,\" he said quietly after they finished.\\nWhile she changed, he placed the dishes in the sink and set up the VCR player, an old tape of \"Adventures of Pikachu & Friends\" whirring to life.\\nWhen she stepped out in the blue dress, Fuji averted his gaze from the way she tugged at the collar, her fingers clawing at the trim as if it were choking her. Amber loved this dress—he reminded himself of that, clinging to the memory of her delight in every stitch of these resurrected gifts.\\n“Stop that!” The words erupted from him, sharp and unbidden.\\nAmber froze, her hands hesitating at the collar before drifting warily to her sides.\\n“Just a rebellious phase,” Fuji muttered under his breath, turning toward his room to gather his things—folders swollen with data, security cards, and a single photograph slipped into his breast pocket. Not the one from this morning—that would return to the album—but another, its image so etched in his mind he didn’t need to glance at it.\\n“I’ll likely be late tonight… again,” he said, the phrase worn smooth by repetition. “Ditto will—”\\n“Ditto will watch me. I know,” she cut in, her voice edged with a sigh as her eyes rolled upward.\\nFuji’s arm snapped up, a coiled spring of frustration, hovering midair. Amber flinched, her arms rising instinctively to shield herself, a reflex that struck him like a cold gust.\\nFuji forced his hand back down slowly and took a few deep breaths. “Mind your tone, young lady.”\\nAnother discrepancy. Another flaw to note and mend later.\\nHe exhaled sharply, then turned to slip on his shoes. At the door, keys weighing heavy in his palm, he lingered, hoping for… something. A farewell? A flicker of warmth? The echo of what once was? But Amber had already retreated into her own world, her back to him, lost in whatever thoughts filled her mind these days.\\nThe stairwell lights still hadn\\'t been fixed, leaving his descent in that peculiar twilight that made every shadow look like a memory trying to take shape. In his pocket, the photograph pressed against his heart like a wound that refused to heal—the three of them at the beach, Amber holding her mother\\'s hat against the wind, her other hand clutching his lab coat. He pushed through the door at ground level, stepping into the morning light of a city that had long since moved on without him.\\n-[v.v]-\\nThe Game Corner\\'s neon signs cast sickly patterns across the morning crowd, their faces bathed in artificial twilight despite the sun outside. Fuji moved through the sea of early gamblers with practiced indifference, his coat pocket heavy with the photo he refused to look at again. The sound of slot machines created a hypnotic rhythm—clicks and whirs and electronic chimes that almost masked the sound of footsteps behind him.\\nHe reached the back wall, fingers finding the hidden panel by memory. The poster above advertised \"Big Wins!\" in garish colors, a Meowth\\'s golden coin reflecting nothing. Three precise taps, pause, two more. A slim card reader emerged with barely a whisper. He drew the white keycard from his inner pocket, its magnetic strip worn from repeated use. The wall slid away with hydraulic efficiency when he swiped it.\\nThe stairwell beyond was everything the Game Corner wasn\\'t—sterile, silent, serious. Another swipe at the bottom of the stairs, this time with the higher-clearance black card. The temperature dropped with each step, the air taking on that distinctive underground chill. Even the sounds changed—the muffled thump of his footsteps against metal stairs replacing the chaos of slot machines above.\\n\"Dr. Fuji!\" The voice echoed off polished surfaces. A young man in a lab coat hurried toward him, a folder clutched like a shield. \"I have those documents you requested forged, doctor.\"\\nFuji accepted the folder without breaking stride, Gideon falling into step beside him. The younger scientist\\'s nervousness manifested in a constant stream of words.\\n\"I backdated everything through the hospital records—birth certificate, vaccination records, doctor’s notes, check-ups, everything. Anyone who looks will find a perfectly ordinary ten-year-old girl who’s lived here all her life.\" Gideon paused, glancing sideways, a slight blush coloring his cheeks. \"Oh, and Agent Domino was asking about you last night. Said she has something you\\'ll find interesting. She\\'s at the Rose Heights Apartments, Unit 742.\"\\nThe conference room door loomed ahead, voices already leaking through. Fuji\\'s hand tightened on the folder, creasing its edge. \"Thank you, Dr. Gideon. That will be all.\"\\n\"Doctor?\" Gideon hesitated. \"About the meeting... some of the admins are saying—\"\\nThe conference room hummed with barely contained chaos. Screens covered every wall—damage reports on the left, casualty lists straight ahead, power readings to the right. Junior scientists clustered in the back corners like anxious Rattata, while admins claimed the chairs closest to the vacant seat at the head of the table.\\nFuji took his seat at the table\\'s midpoint—likely no longer the head of his own research division—and opened Gideon’s folder of forged records. He didn’t need the position now anyway.\\n\"Twenty-three dead,\" Admin Archer began without preamble. \"Forty-five support staff. Billions in equipment.\" He stood at the room\\'s front, hands clasped behind his back, reflection fractured across the wall of screens. \"And a weapon of unprecedented power loose in the world, when it should’ve been under our control.\" His eyes were fixed on Fuji. \"Would you care to explain how this happened, Doctor?\"\\n\"I\\'ve already explained in the previous meetings.\" Fuji\\'s voice sagged with fatigue. Even still, he opened his folder, beginning a methodical review of Gideon\\'s forged documents, each page a lifeline to a daughter he was trying to hold together.\\n\"Dr. Fuji!\" Archer\\'s hands slammed onto the conference table. Coffee cups rattled. A junior researcher in the back dropped her clipboard.\\n\"Dr. Samba,\" Dr. Sebastian quickly interrupted, turning the attention away from Dr. Fuji. \"Perhaps you could explain the sequence of events from your monitoring station?\"\\n\"Ah, yes.\" Dr. Samba stood, her hands steady as she manipulated the central display. Multiple graphs materialized, showing increasingly erratic patterns. \"The readings were unprecedented from the start. Even in stasis, its psychic signature exceeded our strongest Alakazam baseline by several orders of magnitude. But look here—\" She highlighted a specific timestamp. \"At 0247 hours, a huge spike in brain activity followed.\"\\n\"The containment system—\" Archer started.\\n\"Was operating at maximum capacity,\" Samba continued, advancing through her data. \"But the power levels kept climbing. Each spike was stronger than the last, until...\" The graph shot upward, disappearing off the scale. \"Until—\"\\n\"Until it escaped.\" Archer interrupted. \"We created something we couldn\\'t control.\"\\n\"The evolutionary acceleration was unprecedented,\" Dr. Zager added, leaning forward. His excitement briefly overcame his caution. \"If we could replicate even a fraction of that growth rate in other specimens—\"\\n\"Replicate?\" Dr. Namba\\'s laugh held no humor. \"Half of our other research was destroyed. Most of it… gone. The legendary capture systems, the fusion experiments...\" He finally glanced at the photographs of the ruins behind her. \"The Evolution Acceleration lab is a crater. Twenty years of strength augmentation research, gone.\"\\n“Your strength augmentation machine barely worked anyway,\" Dr. Sebastian said with a dismissive wave. “The serum developed by Silph Co. is better.”\\n“That serum is unstable and unpredictable. My strength augmentation machine—”\\nThe room erupted into overlapping arguments. A junior researcher waved printouts of energy readings. Two admins argued about cover stories while Dr. Sebastian and Dr. Namba\\'s debate about the efficacies of the strength augmentation system devolved into a shouting match about research priorities.\\nThrough it all, Fuji continued reading his documents, marking errors that didn’t make sense. Each forged page helping to build the foundation of his daughter\\'s new existence. Only occasionally did his eyes flick to the photographs of the ruined facility, lingering on the massive hole torn through three sublevels—the path of Mewtwo\\'s destruction.\\nThe door opened.\\nThe change in the room was instant. Scientists who had been shouting moments ago snapped upright in their chairs. Archer\\'s face went pale. Even Dr. Namba\\'s sharp retort died in her throat. The temperature seemed to drop several degrees.\\nGiovanni entered like he was taking a casual stroll through one of his gardens. His Persian padded silently beside him, its eyes scanning the room with predatory intensity. The gem on its forehead caught the fluorescent light, casting tiny red reflections across the walls. He wore a charcoal suit that probably cost more than most of the scientists made in a year, every line of it perfect despite the early hour.\\n\"Please,\" he said, his voice smooth as silk, \"don\\'t let me interrupt.\" He took the empty seat at the head of the table, Persian curling at his feet. No one moved. \"I simply thought I should... personally assess the situation.\"\\nHis eyes found Fuji, who had finally looked up from his papers. The two men regarded each other for a long moment—the crime lord and the scientist, each seeing something in the other that the rest of the room couldn\\'t quite grasp.\\n“My investment?” Giovanni asked, staring at Fuji.\\n\"Your investment,\" Fuji echoed, meeting Giovanni\\'s gaze with the same detached interest he\\'d shown his papers, \"exceeded all parameters. The enhanced clone demonstrated power levels beyond anything in recorded history.”\\n\"What about its personality? You mixed some human DNA, correct?\" Giovanni\\'s question carried a weight that seemed to thicken the air.\\nDr. Fuji paused, contemplating the question. His eyes drifted to the wall of monitors behind Giovanni\\'s desk. \"As demonstrated by the almost complete destruction of the facility, I believe it thinks like a human, not a Pokemon. It carries human ambition and human desires. And...\" he turned back to Giovanni, his voice dropping slightly, \"it may hold grudges.\"\\n\"Then it can understand reason,\" Giovanni replied, his lips curving into a slight smile. He gestured for the meeting to continue, settling back in his chair like a theatergoer at a particularly amusing play.\\nDr. Sebastian cleared his throat, clicking through his presentation. \"The forced evolution serum research was largely preserved. We managed to save both the formula and the latest trial.\"\\n\"What about the fusion experiments?\" Archer interrupted.\\n\"The successful specimens were killed in the collapse,\" A scientist said, her voice tight. \"Though frankly, given their condition, perhaps that was a mercy.\"\\n“And the legendary capture projects?”\\nDr. Zager pulled up a new set of files. \"Most of our legendary capture research data was recovered. The theoretical frameworks for containing Mew, the legendary birds, even Celebi—\"\\n\"Theoretical being the operative word,\" someone muttered.\\n\"The equipment was lost,\" Zager continued, ignoring the comment. \"But considering we haven\\'t actually located any of these Pokemon besides Mew, rebuilding the containment units isn\\'t our highest priority.\"\\n“Before we discuss future legendary projects,\" Archer cut in, \"what about the immediate threat? Can we capture Mewtwo, the clone of a legendary?\" He turned to Fuji. \"Doctor, exactly how strong is this thing?\"\\nFuji looked up from his papers, something flickering behind his eyes—a flash of annoyance at yet another interruption of his reading. But after a moment\\'s consideration, he set the documents aside with exaggerated care.\\n\"As we\\'ve discussed already,\" he began, emphasizing each word like he was speaking to particularly slow students, \"the psychic readings were beyond our highest measuring capabilities. Far stronger than any trained Pokemon we\\'ve documented. Likely on par with legendary Pokemon, at minimum.\" He picked up his papers again, adding almost as an afterthought: \"It was designed for battle, after all.\"\\n\"Could the legendary containment systems for Mew work on it?\" Ariana asked.\\nDr. Zager shook his head. \"Those were designed around Mew\\'s specific abilities—transformation, teleportation. Mewtwo...\" He paused, studying the destruction footage. \"Mewtwo is far more aggressive.\"\\nThrough the ensuing debate, Giovanni remained silent, his dark eyes studying each speaker in turn. His Persian stretched lazily at his feet, tail flicking with each raised voice. Only when the arguments began cycling back on themselves did he finally speak, his quiet words cutting through the chaos.\\n\"Dr. Fuji.\" The room fell silent. \"Could another be created? With the few Mew DNA samples we have left?\"\\nFuji looked up from his papers again, a flash of annoyance at the interruption. But this wasn\\'t Archer or one of the other administrators. This was Giovanni.\\n\"The successful synthesis was, honestly, more luck than science,\" Fuji replied, his tone carefully modulated. \"We\\'re not entirely sure what triggered its awakening.\" He held Giovanni\\'s gaze for a moment longer than strictly necessary before returning to his documents.\\n\"But could you? Make one? One more... amenable to our goals?\" Giovanni\\'s voice remained gentle, almost conversational. The room held its breath.\\nFuji\\'s hand stilled on his papers. For the first time in the meeting, his detachment wavered. A new thought flickered through his mind—not just another Mewtwo, but another chance at perfection. Another Amber, one who wouldn\\'t tug at her dress or roll her eyes or hold her chopsticks wrong...\\n\"...It\\'s possible,\" he responded, not looking up, his fingers unconsciously tightening on the forged hospital records of his current \"success.\"\\nThe afternoon dragged on all the way into night. Status updates from field operatives revealed no more psychic disturbances, suggesting Mewtwo had already learned to mask its signature. Division heads argued over resource allocation, blame shifted like shadows, and through it all, Giovanni watched, occasionally asking a pointed question that would send discussions spiraling in new directions.\\n\"The Evolution Research Division needs priority funding—\"\\n\"Funding? Half our containment specialists are dead—\"\\n\"If we could replicate even a fraction of Mewtwo\\'s power level—\"\\n\"Did you see what it did to the psychic dampeners? They melted—\"\\n“Our supporters wouldn’t have the funds—”\\nThe sun had set by the time Giovanni stood, silencing the room once more. \"I expect daily updates,\" he said simply. He stood to leave, his Persian following like a shadow.\\nThe meeting fractured into smaller arguments, then into resigned silence. Scientists and Admins gathered their materials, some still debating in hushed tones about containment protocols and power readings that had exceeded their equipment\\'s maximum scale.\\nFuji stood with them, hurriedly gathering his other papers. His fingers brushed against the photograph in his pocket—a reflexive check, like ensuring a key was still there.\\nHe had another meeting to attend.\\n-[v.v]-\\nRose Heights Apartments loomed over the northern edge of Celadon City, its modern glass facade reflecting the soft glow of the moon. Fuji took the elevator to the seventh floor, his reflection in the mirrored walls looking more worn than he remembered. The fluorescent lights made the shadows under his eyes deeper and turned his lab coat a sickly shade of yellow.\\nDomino opened the door in exercise clothes, a gym towel around her neck. Sweat gleamed on her skin, but her smile was perfectly composed. \"Dr. Fuji. You’re very late.\"\\nHe followed her into an apartment that was notably sparse—a few pieces of furniture, no personal items visible. Exercise equipment dominated one corner, news with captions playing silently on the TV.\\n\"Trying to track down your wife after, what, fifteen years?\" Domino grabbed a water bottle, her tone playful.\\n\"The timing is right,\" Fuji said quietly. \"Everything is finally in place.\"\\n\"You mean... Mewtwo?\" She studied him for a moment, then shrugged and picked up a folder from the coffee table. \"Well, I did find something interesting.\"\\nShe held it just out of reach, smile sharpening. \"New address, a few photos, some documents. Just... don\\'t be too shocked, okay? Fifteen years is a long time.\"\\nFuji nodded, snatching the folder out of her hand.\\nInside the folder, time had continued without him. A more recent photo stared up from the top of the stack. Her auburn hair was pulled back in that familiar ponytail, barely touched by gray. She was crouched among the freshly planted garden, laughing at something off-camera, her face as youthful and bright as he remembered. His fingers traced the edge of the frame, carefully covering the man standing beside her.\\n\"It\\'s natural, you know,\" Domino said, \"For her to want companionship after all this time.\"\\nHe nodded slowly, still staring at the half-covered photo. The anger he\\'d expected didn\\'t come—just a strange, hollow certainty that this too was temporary. Just another obstacle to overcome.\\nAs he walked back through the darkening city streets, he whispered her name like a hypothesis waiting to be proven: \"Delia...\"\\n')]"
      ]
     },
     "execution_count": 5,
     "metadata": {},
     "output_type": "execute_result"
    }
   ],
   "source": [
    "import yaml\n",
    "\n",
    "from shuscribe.schemas.pipeline import Chapter, StoryMetadata\n",
    "\n",
    "with open(STORY_DIR / \"story\" / \"_meta.yaml\", \"r\") as f:\n",
    "    meta = yaml.safe_load(f)\n",
    "    STORY_METADATA = StoryMetadata(\n",
    "        title=meta.get('story_title'),\n",
    "        description=meta.get('story_description'),\n",
    "        genres=meta.get('genres'),\n",
    "        additional_tags=meta.get('additional_tags')\n",
    "    )\n",
    "\n",
    "CHAPTERS = []\n",
    "for chapter in meta.get('chapters'):\n",
    "    with open(STORY_DIR / \"story\" / chapter, \"r\") as f:\n",
    "        chapter_id = chapter.split('.')[0]\n",
    "        try:\n",
    "            chapter_content = yaml.safe_load(f)\n",
    "            CHAPTERS.append(Chapter(id=chapter_id, title=chapter_content.get('title'), content=chapter_content.get('content')))\n",
    "        except Exception:\n",
    "            continue\n",
    "\n",
    "CHAPTERS"
   ]
  },
  {
   "cell_type": "markdown",
   "metadata": {},
   "source": [
    "# Summarization Pipeline"
   ]
  },
  {
   "cell_type": "markdown",
   "metadata": {},
   "source": [
    "## Chapter [X]"
   ]
  },
  {
   "cell_type": "code",
   "execution_count": 6,
   "metadata": {},
   "outputs": [],
   "source": [
    "# Set Provider Name\n",
    "from shuscribe.schemas.wikigen.entity import UpsertEntitiesOutSchema\n",
    "from shuscribe.schemas.wikigen.wiki import WikiPage\n",
    "from shuscribe.schemas.wikigen.summary import ChapterSummary\n",
    "\n",
    "with open(STORY_DIR / f\"{CHAPTER_INDEX-1}out\" / \"comprehensive_wiki.json\", \"r\") as f:\n",
    "    COMPREHENSIVE_WIKI = WikiPage.from_wiki_content(\"Comprehensive Wiki Page\", json.loads(f.read())[\"accumulated_text\"])\n",
    "\n",
    "with open(STORY_DIR / f\"{CHAPTER_INDEX-1}out\" / \"chapter_summary.json\", \"r\") as f:\n",
    "    PREV_SUMMARY = ChapterSummary.from_chapter_summary(CHAPTER_INDEX-1, json.loads(f.read())[\"accumulated_text\"])\n",
    "\n",
    "with open(STORY_DIR / f\"{CHAPTER_INDEX-1}out\" / \"upsert_entities.json\", \"r\") as f:\n",
    "    UPSERT_ENTITIES = UpsertEntitiesOutSchema.model_validate_json(f.read())\n"
   ]
  },
  {
   "cell_type": "code",
   "execution_count": 7,
   "metadata": {},
   "outputs": [
    {
     "name": "stderr",
     "output_type": "stream",
     "text": [
      "!!!!!!!!!!!!megablocks not available, using torch.matmul instead\n",
      "<All keys matched successfully>\n"
     ]
    }
   ],
   "source": [
    "from shuscribe.schemas.wikigen.entity import TempEntityDBRepresentation\n",
    "\n",
    "with open(STORY_DIR / f\"{CHAPTER_INDEX-1}out\" / \"entity_db.json\", \"r\") as f:\n",
    "    entities_db = TempEntityDBRepresentation.model_validate_json(f.read())\n",
    "from shuscribe.schemas.wikigen.entity import TempEntityDB\n",
    "\n",
    "entity_db = TempEntityDB()\n",
    "entity_db.entities_db = entities_db"
   ]
  },
  {
   "cell_type": "markdown",
   "metadata": {},
   "source": [
    "### Chapter Summary"
   ]
  },
  {
   "cell_type": "code",
   "execution_count": 8,
   "metadata": {},
   "outputs": [
    {
     "name": "stdout",
     "output_type": "stream",
     "text": [
      "prompt_tokens=5307 completion_tokens=972\n"
     ]
    }
   ],
   "source": [
    "from shuscribe.schemas.wikigen.summary import ChapterSummary\n",
    "from shuscribe.services.llm.prompts import templates\n",
    "\n",
    "templates.chapter.summary.reload()\n",
    "\n",
    "summary_messages: list[Message] = templates.chapter.summary.format( \n",
    "    current_chapter=CHAPTERS[CHAPTER_INDEX],\n",
    "    story_metadata=STORY_METADATA,\n",
    "    summary_so_far=COMPREHENSIVE_WIKI,\n",
    "    recent_summaries=[PREV_SUMMARY],\n",
    ")\n",
    "\n",
    "# print(messages[-1].content)\n",
    "\n",
    "summary_response = None\n",
    "\n",
    "if USE_CACHED_RESPONSES:\n",
    "    # if exists, load from file\n",
    "    if (STORY_DIR / f\"{CHAPTER_INDEX}out\" / \"chapter_summary.json\").exists():\n",
    "        with open(STORY_DIR / f\"{CHAPTER_INDEX}out\" / \"chapter_summary.json\", \"r\") as f:\n",
    "            summary_response = StreamChunk.model_validate_json(f.read())\n",
    "\n",
    "# if we don't have a cached response, generate one\n",
    "if not summary_response:\n",
    "    summary_response = await run_async(stream(\n",
    "        \"\", \n",
    "        \"\", \n",
    "        summary_messages, \n",
    "        config=templates.chapter.summary.default_config\n",
    "        ))\n",
    "\n",
    "print(summary_response.usage)\n",
    "os.makedirs(STORY_DIR / f\"{CHAPTER_INDEX}out\", exist_ok=True)\n",
    "with open(STORY_DIR / f\"{CHAPTER_INDEX}out\" / \"chapter_summary.json\", \"w\") as f:\n",
    "    f.write(summary_response.model_dump_json(indent=2))\n",
    "\n",
    "chapter_summary = ChapterSummary.from_chapter_summary(CHAPTER_INDEX, summary_response.accumulated_text)\n"
   ]
  },
  {
   "cell_type": "markdown",
   "metadata": {},
   "source": [
    "### Extract Entities"
   ]
  },
  {
   "cell_type": "code",
   "execution_count": 9,
   "metadata": {},
   "outputs": [
    {
     "name": "stdout",
     "output_type": "stream",
     "text": [
      "<Content>\n",
      "\n",
      "\n",
      "## Lingering Trauma and Existential Dread\n",
      "\n",
      "*   The protagonist, now \"Amber,\" struggles to sleep, haunted by the events of Mewtwo's escape and the feeling of being disconnected from her former self. [!CHARACTER] [!THEME]\n",
      "    *   She is disturbed by shadows that resemble psychic energy fractals, a callback to Mewtwo's awakening. [!SYMBOL] [!CALLBACK]\n",
      "    *   The lingering physical sensations of the amber fluid reinforce the reality of her situation. [!WORLD]\n",
      "*   Amber grapples with her new, young body and the adult thoughts trapped within it. [!CHARACTER]\n",
      "    *   She feels alienated by the foreignness of her own body, including her fingerprints. [!THEME]\n",
      "*   She feels guilt and displacement, knowing she occupies a body that belongs to the original, deceased Amber. [!CHARACTER] [!THEME]\n",
      "*   Amber reflects on Dr. Fuji's actions and the implications of her existence. [!CHARACTER]\n",
      "    *   She acknowledges the lengths he went to in order to bring her back.\n",
      "    *   She questions her own worthiness and purpose, feeling like an accident. [!THEME]\n",
      "*   Amber considers the oblivious tourists on Cinnabar Island, unaware of the hidden laboratory and Mewtwo's escape. [!WORLD]\n",
      "*   She contemplates Mewtwo's existence and purpose compared to her own accidental reincarnation. [!CHARACTER] [!THEME]\n",
      "*   Memories of her past life flood back, highlighting the contrast with her current reality. [!CHARACTER] [!CALLBACK]\n",
      "    *   She remembers her mother, her cat, and the thrill of collecting Pokemon cards.\n",
      "    *   She recalls her final Pokemon battle, a Gyarados named Tsunami, and her death. [!CALLBACK]\n",
      "*   Amber fears the potential consequences of Team Rocket discovering her meta-knowledge. [!FORESHADOW]\n",
      "    *   She considers the different versions of the future based on the anime, games, and manga. [!ALLUSION]\n",
      "    *   She worries about Team Rocket exploiting her knowledge and vulnerable form. [!FORESHADOW]\n",
      "*   Amber feels like an anomaly, something unplanned for even by Arceus. [!CHARACTER] [!THEME] [!WORLD]\n",
      "*   She resigns herself to pretending and existing in this new reality. [!CHARACTER]\n",
      "\n",
      "## The Celadon Express\n",
      "\n",
      "*   Amber and Dr. Fuji arrive at the beach, where passengers are gathering for transport via Pidgeot. [!WORLD]\n",
      "    *   The other passengers include families, a businessman, and two Pokemon trainers.\n",
      "*   The air shifts, signaling the arrival of the Pidgeot.\n",
      "*   Eight massive Pidgeot descend in formation, escorted by a Fearow and a Noctowl. [!WORLD]\n",
      "    *   Amber is awestruck by the reality of the Pokemon, struggling to reconcile them with her game-based perceptions. [!CHARACTER]\n",
      "    *   The Pidgeot are described as real, breathing, and massive.\n",
      "*   The trainers, Captain Lin and Captain Reed, land with their Pokemon and begin organizing the passengers. [!WORLD]\n",
      "    *   Lin's Ampharos acts as an airport marshal.\n",
      "    *   Reed's Fearow acts as a drill sergeant.\n",
      "*   Amber is going to fly on a Pidgeot. [!CHARACTER]\n",
      "*   Lin notices Amber's overwhelmed state and reassures her. [!CHARACTER]\n",
      "*   Lin provides a safety briefing, emphasizing the importance of relaxation when riding a Pokemon. [!WORLD]\n",
      "*   Amber steps onto the Pidgeot, named Storm, and is struck by the feel of its feathers. [!WORLD]\n",
      "*   Dr. Fuji settles behind Amber, providing a sense of stability. [!CHARACTER]\n",
      "*   The Pidgeot take off, and Amber experiences the thrill of flight. [!WORLD]\n",
      "    *   The beach falls away, and the sun paints the sky in vibrant colors.\n",
      "*   The Pidgeot fly in formation, escorted by the Fearow and Noctowl. [!WORLD]\n",
      "*   Amber feels exhaustion overtaking her and drifts off to sleep. [!CHARACTER]\n",
      "    *   She is lulled by the rhythm of Storm's wings and the wind.\n",
      "    *   Lin assures her that Storm will keep her safe.\n",
      "    *   Dr. Fuji adjusts her straps to ensure she doesn't fall.\n",
      "    *   Amber sleeps without dreams, carried by the Pidgeot towards her unknown future.\n",
      "\n",
      "\n",
      "</Content>\n"
     ]
    }
   ],
   "source": [
    "print(chapter_summary.to_prompt())"
   ]
  },
  {
   "cell_type": "code",
   "execution_count": 10,
   "metadata": {},
   "outputs": [
    {
     "name": "stdout",
     "output_type": "stream",
     "text": [
      "prompt_tokens=6484 completion_tokens=1005\n"
     ]
    }
   ],
   "source": [
    "from shuscribe.schemas.wikigen.entity import ExtractEntitiesOutSchema\n",
    "\n",
    "\n",
    "templates.entity.extract.reload()\n",
    "extract_messages: list[Message] = templates.entity.extract.format( \n",
    "    current_chapter=CHAPTERS[CHAPTER_INDEX],\n",
    "    # current_chapter=Chapter(id=1, title=\"Chapter 1\", content=\"This is a test chapter.\"),\n",
    "    story_metadata=STORY_METADATA,\n",
    "    chapter_summary=chapter_summary,\n",
    "    summary_so_far=COMPREHENSIVE_WIKI,\n",
    "    recent_summaries=[PREV_SUMMARY],\n",
    ")\n",
    "\n",
    "# print(extract_messages[-1].content)\n",
    "extract_response = None\n",
    "if USE_CACHED_RESPONSES:\n",
    "    # if exists, load from file\n",
    "    if (STORY_DIR / f\"{CHAPTER_INDEX}out\" / \"extract_entities.json\").exists():\n",
    "        with open(STORY_DIR / f\"{CHAPTER_INDEX}out\" / \"extract_entities.json\", \"r\") as f:\n",
    "            extract_response = StreamChunk.model_validate_json(f.read())\n",
    "            \n",
    "# if we don't have a cached response, generate one\n",
    "if not extract_response:\n",
    "    extract_response = await run_async(stream(\n",
    "        \"\", \n",
    "        \"\", \n",
    "        extract_messages, \n",
    "        config=templates.entity.extract.default_config\n",
    "        ))\n",
    "    \n",
    "os.makedirs(STORY_DIR / f\"{CHAPTER_INDEX}out\", exist_ok=True)\n",
    "with open(STORY_DIR / f\"{CHAPTER_INDEX}out\" / \"extract_entities.json\", \"w\") as f:\n",
    "    f.write(extract_response.model_dump_json(indent=2))\n",
    "\n",
    "extracted_entities = ExtractEntitiesOutSchema.model_validate_json(extract_response.accumulated_text)\n",
    "print(extract_response.usage)\n"
   ]
  },
  {
   "cell_type": "markdown",
   "metadata": {},
   "source": [
    "### Search for Entities\n"
   ]
  },
  {
   "cell_type": "code",
   "execution_count": 11,
   "metadata": {},
   "outputs": [
    {
     "name": "stdout",
     "output_type": "stream",
     "text": [
      "6\n",
      "TempEntityRecord(identifier=Amber Fluid (Reincarnation))\n",
      "TempEntityRecord(identifier=Dr. Fuji's Laboratory)\n",
      "TempEntityRecord(identifier=Dr. Fuji's Laboratory (Post-Mewtwo Rampage))\n",
      "TempEntityRecord(identifier=Mewtwo)\n",
      "TempEntityRecord(identifier=Dr. Fuji)\n",
      "TempEntityRecord(identifier=Amber (Reincarnated))\n"
     ]
    }
   ],
   "source": [
    "from shuscribe.schemas.wikigen.entity import EntitySigLvl, TempEntityRecord\n",
    "\n",
    "ent_list = extracted_entities.filter_entities(EntitySigLvl.RELEVANT)\n",
    "\n",
    "existing_entities: set[TempEntityRecord] = set()\n",
    "\n",
    "for entity in ent_list:\n",
    "    for result in entity_db.search(json.dumps(entity.to_upsert_dict(ent_list), indent=2)):\n",
    "        existing_entities.add(result[0])\n",
    "\n",
    "print(len(existing_entities))\n",
    "\n",
    "for entity in existing_entities:\n",
    "    print(entity)\n"
   ]
  },
  {
   "cell_type": "markdown",
   "metadata": {},
   "source": [
    "### Upsert Entities and Relationships"
   ]
  },
  {
   "cell_type": "code",
   "execution_count": 12,
   "metadata": {},
   "outputs": [],
   "source": [
    "from shuscribe.schemas.provider import LLMUsage\n",
    "from shuscribe.schemas.wikigen.entity import UpsertEntitiesOutSchema\n",
    "from shuscribe.schemas.wikigen.entity import EntitySigLvl\n",
    "\n",
    "upsert_entities = UpsertEntitiesOutSchema(entities=[])\n",
    "\n",
    "if USE_CACHED_RESPONSES:\n",
    "    # if exists, load from file\n",
    "    if (STORY_DIR / f\"{CHAPTER_INDEX}out\" / \"upsert_entities.json\").exists():\n",
    "        with open(STORY_DIR / f\"{CHAPTER_INDEX}out\" / \"upsert_entities.json\", \"r\") as f:\n",
    "            upsert_entities = UpsertEntitiesOutSchema.model_validate_json(f.read())\n",
    "\n",
    "if len(upsert_entities.entities) == 0:\n",
    "    upsert_entities = UpsertEntitiesOutSchema(entities=[])\n",
    "    total_usage = LLMUsage(prompt_tokens=0, completion_tokens=0)\n",
    "    templates.entity.upsert.reload()        \n",
    "\n",
    "    for batch in extracted_entities.batch_for_upsert(EntitySigLvl.RELEVANT, chunk_size=5):\n",
    "        upsert_messages: list[Message] = templates.entity.upsert.format( \n",
    "            current_chapter=CHAPTERS[CHAPTER_INDEX],\n",
    "            entity_batch=batch,\n",
    "            story_metadata=STORY_METADATA,\n",
    "            chapter_summary=chapter_summary,\n",
    "            \n",
    "            existing_entities=[entity.to_dict() for entity in existing_entities],\n",
    "            summary_so_far=COMPREHENSIVE_WIKI,\n",
    "            recent_summaries=[PREV_SUMMARY],\n",
    "        )\n",
    "        upsert_response = await run_async(stream(\n",
    "            \"\", \n",
    "            \"\", \n",
    "            upsert_messages, \n",
    "            config=templates.entity.upsert.default_config\n",
    "            ))\n",
    "        upsert_entities.entities.extend(UpsertEntitiesOutSchema.model_validate_json(upsert_response.accumulated_text).entities)\n",
    "        total_usage.prompt_tokens += upsert_response.usage.prompt_tokens\n",
    "        total_usage.completion_tokens += upsert_response.usage.completion_tokens\n",
    "        print(upsert_response.usage)\n",
    "\n",
    "os.makedirs(STORY_DIR / f\"{CHAPTER_INDEX}out\", exist_ok=True)\n",
    "with open(STORY_DIR / f\"{CHAPTER_INDEX}out\" / \"upsert_entities.json\", \"w\") as f:\n",
    "    f.write(upsert_entities.model_dump_json(indent=2))\n"
   ]
  },
  {
   "cell_type": "markdown",
   "metadata": {},
   "source": [
    "### Update Entity DB"
   ]
  },
  {
   "cell_type": "code",
   "execution_count": 13,
   "metadata": {},
   "outputs": [
    {
     "name": "stdout",
     "output_type": "stream",
     "text": [
      "Upserted 4 entities, 3 new entities\n",
      "entities_updated=[TempEntityRecord(identifier=Amber (Reincarnated)), TempEntityRecord(identifier=Dr. Fuji), TempEntityRecord(identifier=Mewtwo), TempEntityRecord(identifier=Dr. Fuji's Laboratory)]\n",
      "entities_new=[TempEntityRecord(identifier=Existential Dread), TempEntityRecord(identifier=Reincarnation), TempEntityRecord(identifier=Pidgeot (Storm))]\n"
     ]
    },
    {
     "data": {
      "text/plain": [
       "10"
      ]
     },
     "execution_count": 13,
     "metadata": {},
     "output_type": "execute_result"
    }
   ],
   "source": [
    "entity_db.upsert(upsert_entities.entities)\n",
    "entity_db.size()"
   ]
  },
  {
   "cell_type": "code",
   "execution_count": 14,
   "metadata": {},
   "outputs": [],
   "source": [
    "with open(STORY_DIR / f\"{CHAPTER_INDEX}out\" / \"entity_db.json\", \"w\") as f:\n",
    "    f.write(entity_db.entities_db.model_dump_json(indent=2))\n",
    "\n",
    "os.makedirs(STORY_DIR / \"latest_out\", exist_ok=True)\n",
    "with open(STORY_DIR / \"latest_out\" / \"entity_db.json\", \"w\") as f:\n",
    "    f.write(entity_db.entities_db.model_dump_json(indent=2))"
   ]
  },
  {
   "cell_type": "markdown",
   "metadata": {},
   "source": [
    "### Story So Far Summary"
   ]
  },
  {
   "cell_type": "code",
   "execution_count": 15,
   "metadata": {},
   "outputs": [
    {
     "name": "stdout",
     "output_type": "stream",
     "text": [
      "prompt_tokens=7179 completion_tokens=1831\n"
     ]
    }
   ],
   "source": [
    "\n",
    "from shuscribe.schemas.wikigen.wiki import WikiPage\n",
    "\n",
    "\n",
    "templates.story.comprehensive_wiki.reload()\n",
    "comprehensive_wiki_messages: list[Message] = templates.story.comprehensive_wiki.format( \n",
    "    current_chapter=CHAPTERS[CHAPTER_INDEX],\n",
    "    chapter_summary=chapter_summary,\n",
    "    key_entities=upsert_entities,\n",
    "    \n",
    "    story_metadata=STORY_METADATA,\n",
    "    # summary_so_far=summary_so_far,\n",
    "    # recent_summaries=recent_summaries_prompt,\n",
    ")\n",
    "\n",
    "# print(comprehensive_summary_messages[-1].content)\n",
    "comprehensive_wiki_response = None\n",
    "if USE_CACHED_RESPONSES:\n",
    "    # if exists, load from file\n",
    "    if (STORY_DIR / f\"{CHAPTER_INDEX}out\" / \"comprehensive_wiki.json\").exists():\n",
    "        with open(STORY_DIR / f\"{CHAPTER_INDEX}out\" / \"comprehensive_wiki.json\", \"r\") as f:\n",
    "            comprehensive_wiki_response = StreamChunk.model_validate_json(f.read())\n",
    "\n",
    "if not comprehensive_wiki_response:\n",
    "    comprehensive_wiki_response = await run_async(stream(\n",
    "        \"\", \n",
    "        \"\", \n",
    "        comprehensive_wiki_messages, \n",
    "        config=templates.story.comprehensive_wiki.default_config\n",
    "        ))\n",
    "\n",
    "os.makedirs(STORY_DIR / f\"{CHAPTER_INDEX}out\", exist_ok=True)\n",
    "with open(STORY_DIR / f\"{CHAPTER_INDEX}out\" / \"comprehensive_wiki.json\", \"w\") as f:\n",
    "    f.write(comprehensive_wiki_response.model_dump_json(indent=2))\n",
    "\n",
    "print(comprehensive_wiki_response.usage)\n",
    "comprehensive_wiki = WikiPage.from_wiki_content(\"Comprehensive Wiki Page\", comprehensive_wiki_response.accumulated_text)\n"
   ]
  },
  {
   "cell_type": "code",
   "execution_count": 16,
   "metadata": {},
   "outputs": [
    {
     "data": {
      "text/markdown": [
       "\n",
       "\n",
       "## World Overview\n",
       "\n",
       "### The [[Pokemon]] World\n",
       "\n",
       "The world of Pokemon: Ambertwo appears to be a complex fusion of various Pokemon media, including elements from the games, anime, and manga. This world contains actual, living Pokemon with significant physical presence and impact. The regions follow similar geography to the canonical Pokemon world, with locations like [[Cinnabar Island]] and [[Celadon City]] being key areas in the narrative.\n",
       "\n",
       "Transportation in this world utilizes Pokemon in practical ways. The [[Celadon Express]] is a flight service that uses multiple [[Pidgeot]] for passenger transport between islands and cities. This service demonstrates how flying Pokemon are integrated into society for practical purposes beyond battling.\n",
       "\n",
       "### [[Team Rocket]]\n",
       "\n",
       "Team Rocket operates with significant resources and influence. They maintain secret laboratories for genetic experimentation, including the facility where [[Dr. Fuji]] worked on creating [[Mewtwo]]. Following Mewtwo's escape, they represent a looming threat, with their potential pursuit of both Mewtwo and knowledge of any surviving experiments.\n",
       "\n",
       "## Key Characters\n",
       "\n",
       "### [[Amber (Reincarnated)]]\n",
       "\n",
       "The protagonist of the story is a reincarnated Pokemon fan who now inhabits the body of [[Dr. Fuji]]'s daughter, Amber. Formerly an adult Pokemon enthusiast in the real world, she died while playing Pokemon GO and found herself awakening in a clone tank in Dr. Fuji's laboratory. Her consciousness now resides in the body of a 10-year-old girl with mint-green hair.\n",
       "\n",
       "Amber struggles significantly with her new identity, experiencing severe [[Existential Dread]] as she tries to reconcile her adult mind with her child body. She feels guilt knowing she occupies the body meant for Dr. Fuji's deceased daughter, describing herself as \"an accident of consciousness in a form that should have failed.\" Her fingerprints, body movements, and even breathing feel foreign to her.\n",
       "\n",
       "She retains memories of her past life, including her mother, her cat (nicknamed Snorlax), collecting Pokemon cards during lockdown, and playing Pokemon games. Her final moments involved a Pokemon battle using a Gyarados named Tsunami before being hit by a truck.\n",
       "\n",
       "Amber possesses meta-knowledge about the Pokemon world from her previous life, understanding different potential timelines from the games, anime, and manga. This knowledge causes her anxiety about Team Rocket potentially discovering and exploiting both her and her knowledge.\n",
       "\n",
       "### [[Dr. Fuji]]\n",
       "\n",
       "A middle-aged scientist and Amber's father in her new life. He is emotionally invested in Amber, showing deep care and protection toward her. Dr. Fuji was responsible for creating [[Mewtwo]] and apparently succeeded in cloning his deceased daughter, though the consciousness inhabiting the clone's body is not his original daughter's.\n",
       "\n",
       "He serves as a source of stability for Amber, adjusting her safety straps during their Pidgeot flight and generally looking after her welfare. His primary motivation appears to be protecting Amber and rebuilding their life together after the chaos of Mewtwo's escape.\n",
       "\n",
       "### [[Mewtwo]]\n",
       "\n",
       "A powerful Psychic-type Pokemon created through genetic engineering by Dr. Fuji. Mewtwo escaped from Dr. Fuji's laboratory in a destructive rampage that forced Dr. Fuji and Amber to flee. Described as raw, primal, and terrifyingly real with unstable form and immense power.\n",
       "\n",
       "When Mewtwo made eye contact with Amber during its escape, there appeared to be a flicker of recognition. Amber reflects that Mewtwo is \"another consciousness that never should have been,\" though she notes that at least Mewtwo was created with a clear purpose: to be the most powerful Pokemon in existence.\n",
       "\n",
       "Amber contemplates the different possible futures for Mewtwo based on various Pokemon media, including it being captured by Team Rocket, escaping to Cerulean Cave, or following other canonical storylines.\n",
       "\n",
       "## Locations\n",
       "\n",
       "### [[Dr. Fuji's Laboratory]]\n",
       "\n",
       "An underground facility where Amber awakened in a tank filled with amber fluid. The laboratory contained equipment for Pokemon experimentation, including multiple tanks similar to Amber's. The facility was located beneath Cinnabar Island, hidden from the knowledge of tourists and regular visitors to the island.\n",
       "\n",
       "During Mewtwo's escape, the laboratory was severely damaged when Mewtwo blasted through the ceiling to escape.\n",
       "\n",
       "### [[Cinnabar Island]]\n",
       "\n",
       "A volcanic island that serves as a tourist destination, with visitors typically unaware of the secret laboratory beneath it. The island features black volcanic sand beaches and a visible volcano silhouette. After escaping the laboratory, Amber and Dr. Fuji stayed at a hotel on the island before arranging transportation to leave.\n",
       "\n",
       "## Events\n",
       "\n",
       "### Awakening and Escape\n",
       "\n",
       "Amber awakened in a tank filled with amber fluid, initially confused about her situation. As she gained awareness, she realized she had been reincarnated into the Pokemon world as Dr. Fuji's daughter. During this disorientation, Mewtwo also awoke and escaped in a destructive rampage, forcing Amber and Dr. Fuji to flee the laboratory.\n",
       "\n",
       "### Journey to [[Celadon City]]\n",
       "\n",
       "After spending a night in a hotel on Cinnabar Island, Amber and Dr. Fuji joined other passengers for the [[Celadon Express]], a Pokemon air transport service. The service uses a formation of eight [[Pidgeot]] escorted by a [[Fearow]] and a [[Noctowl]], all under the command of Captain Lin and Captain Reed.\n",
       "\n",
       "Amber experienced her first direct contact with Pokemon during this journey, riding on a Pidgeot named [[Pidgeot (Storm)|Storm]]. The encounter left her awestruck as she reconciled the reality of actual Pokemon with her previous understanding of them as fictional creatures. Despite her excitement, exhaustion eventually overtook her, and she fell asleep during the flight, comforted by the rhythm of Storm's wings and Dr. Fuji's protective presence.\n",
       "\n",
       "## Ongoing Conflicts\n",
       "\n",
       "### Internal Identity Struggle\n",
       "\n",
       "Amber experiences significant internal conflict as she adjusts to her new existence. She struggles with insomnia due to fear that sleep might cause her to lose her connection to her former self. She grapples with feeling like an imposter in Amber's body, viewing herself as \"an accident\" rather than the intended consciousness for this form.\n",
       "\n",
       "Her existential questions expand to include wondering about her purpose in this world, especially in comparison to Mewtwo who was created with the clear purpose of being the strongest Pokemon.\n",
       "\n",
       "### Threat of [[Team Rocket]]\n",
       "\n",
       "Though not immediately present after their escape from the laboratory, Team Rocket represents a significant looming threat. Amber worries about what they might do if they discover a \"failed experiment walking around with a head full of meta knowledge.\" Her awareness of multiple possible timelines from different Pokemon media adds complexity to her concern about Team Rocket's future actions.\n",
       "\n"
      ],
      "text/plain": [
       "<IPython.core.display.Markdown object>"
      ]
     },
     "execution_count": 16,
     "metadata": {},
     "output_type": "execute_result"
    }
   ],
   "source": [
    "# display markdown\n",
    "Markdown(comprehensive_wiki.content)\n"
   ]
  }
 ],
 "metadata": {
  "kernelspec": {
   "display_name": ".venv",
   "language": "python",
   "name": "python3"
  },
  "language_info": {
   "codemirror_mode": {
    "name": "ipython",
    "version": 3
   },
   "file_extension": ".py",
   "mimetype": "text/x-python",
   "name": "python",
   "nbconvert_exporter": "python",
   "pygments_lexer": "ipython3",
   "version": "3.12.9"
  }
 },
 "nbformat": 4,
 "nbformat_minor": 2
}
